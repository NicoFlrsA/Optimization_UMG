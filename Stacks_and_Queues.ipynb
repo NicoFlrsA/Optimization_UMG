{
  "nbformat": 4,
  "nbformat_minor": 0,
  "metadata": {
    "colab": {
      "provenance": [],
      "authorship_tag": "ABX9TyNvujpA8DvguvREI43qE54W",
      "include_colab_link": true
    },
    "kernelspec": {
      "name": "python3",
      "display_name": "Python 3"
    },
    "language_info": {
      "name": "python"
    }
  },
  "cells": [
    {
      "cell_type": "markdown",
      "metadata": {
        "id": "view-in-github",
        "colab_type": "text"
      },
      "source": [
        "<a href=\"https://colab.research.google.com/github/NicoFlrsA/Optimization_UMG/blob/main/Stacks_and_Queues.ipynb\" target=\"_parent\"><img src=\"https://colab.research.google.com/assets/colab-badge.svg\" alt=\"Open In Colab\"/></a>"
      ]
    },
    {
      "cell_type": "markdown",
      "source": [
        "# Implement a stack using a Linked-List\n",
        "\n",
        "\n",
        "\n",
        "\n"
      ],
      "metadata": {
        "id": "4V37SJZ3qPMB"
      }
    },
    {
      "cell_type": "code",
      "execution_count": 25,
      "metadata": {
        "colab": {
          "base_uri": "https://localhost:8080/"
        },
        "id": "G6bIfBhwkUeF",
        "outputId": "88023fd1-8b75-420d-bfaf-1ee402433457"
      },
      "outputs": [
        {
          "output_type": "stream",
          "name": "stdout",
          "text": [
            "Stack:\n",
            "3 -> 2 -> 1 -> None\n",
            "Peek: 3\n",
            "Popped: 3\n",
            "Stack after pop:\n",
            "2 -> 1 -> None\n"
          ]
        }
      ],
      "source": [
        "class Node:\n",
        "    def __init__(self, data):\n",
        "        self.data = data\n",
        "        self.next = None\n",
        "\n",
        "class Stack:\n",
        "    def __init__(self):\n",
        "        self.head = None\n",
        "        self.size = 0\n",
        "\n",
        "    def is_empty(self):\n",
        "        return self.size == 0\n",
        "\n",
        "    def push(self, data):\n",
        "        new_node = Node(data)\n",
        "        new_node.next = self.head\n",
        "        self.head = new_node\n",
        "        self.size += 1\n",
        "\n",
        "    def pop(self):\n",
        "        if self.is_empty():\n",
        "            return None\n",
        "        data = self.head.data\n",
        "        self.head = self.head.next\n",
        "        self.size -= 1\n",
        "        return data\n",
        "\n",
        "    def peek(self):\n",
        "        if self.is_empty():\n",
        "            return None\n",
        "        return self.head.data\n",
        "\n",
        "    def size(self):\n",
        "        return self.size\n",
        "\n",
        "    def display(self):\n",
        "        current = self.head\n",
        "        while current:\n",
        "            print(current.data, end=\" -> \")\n",
        "            current = current.next\n",
        "        print(\"None\")\n",
        "\n",
        "# Example usage:\n",
        "myStack = Stack()\n",
        "myStack.push(1)\n",
        "myStack.push(2)\n",
        "myStack.push(3)\n",
        "\n",
        "print(\"Stack:\")\n",
        "myStack.display()  # Output: 3 -> 2 -> 1 -> None\n",
        "\n",
        "print(\"Peek:\", myStack.peek())  # Output: Peek: 3\n",
        "\n",
        "popped_item = myStack.pop()\n",
        "print(\"Popped:\", popped_item)  # Output: Popped: 3\n",
        "\n",
        "print(\"Stack after pop:\")\n",
        "myStack.display()  # Output: 2 -> 1 -> None\n"
      ]
    },
    {
      "cell_type": "markdown",
      "source": [
        "# Implement a stack which, in addition to push()/pop(), has a function min() which return the mínimum element. Push(), pop() and min() should all operate in O(1)"
      ],
      "metadata": {
        "id": "rEh0esObq2L6"
      }
    },
    {
      "cell_type": "code",
      "source": [
        "class Node:\n",
        "    def __init__(self, data):\n",
        "        self.data = data\n",
        "        self.next = None\n",
        "\n",
        "class Stack:\n",
        "    def __init__(self):\n",
        "        self.head = None\n",
        "        self.size = 0\n",
        "        self.min_stack_head = None  # Head of the auxiliary stack to track minimum values\n",
        "\n",
        "    def is_empty(self):\n",
        "        return self.size == 0\n",
        "\n",
        "    def push(self, data):\n",
        "        new_node = Node(data)\n",
        "        new_node.next = self.head\n",
        "        self.head = new_node\n",
        "        self.size += 1\n",
        "\n",
        "        # Update the minimum stack with the new minimum if necessary\n",
        "        if not self.min_stack_head or data <= self.min_stack_head.data:\n",
        "            new_min_node = Node(data)\n",
        "            new_min_node.next = self.min_stack_head\n",
        "            self.min_stack_head = new_min_node\n",
        "\n",
        "    def pop(self):\n",
        "        if self.is_empty():\n",
        "            return None\n",
        "        data = self.head.data\n",
        "        self.head = self.head.next\n",
        "        self.size -= 1\n",
        "\n",
        "        # Check if the element being popped is the current minimum\n",
        "        if data == self.min_stack_head.data:\n",
        "            self.min_stack_head = self.min_stack_head.next\n",
        "\n",
        "        return data\n",
        "\n",
        "    def peek(self):\n",
        "        if self.is_empty():\n",
        "            return None\n",
        "        return self.head.data\n",
        "\n",
        "    def size(self):\n",
        "        return self.size\n",
        "\n",
        "    def display(self):\n",
        "        current = self.head\n",
        "        while current:\n",
        "            print(current.data, end=\" -> \")\n",
        "            current = current.next\n",
        "        print(\"None\")\n",
        "\n",
        "    def min(self):\n",
        "        if not self.min_stack_head:\n",
        "            return None\n",
        "        return self.min_stack_head.data\n",
        "\n",
        "# Example usage:\n",
        "myStack = Stack()\n",
        "myStack.push(1)\n",
        "myStack.push(2)\n",
        "myStack.push(3)\n",
        "myStack.push(-1)\n",
        "\n",
        "print(\"Stack:\")\n",
        "myStack.display()  # Output: -1 -> 3 -> 2 -> 1 -> None\n",
        "print(\"Minimum element:\", myStack.min())  # Output: Minimum element: -1\n",
        "\n",
        "print(\"Peek:\", myStack.peek())  # Output: Peek: -1\n",
        "\n",
        "popped_item = myStack.pop()\n",
        "print(\"Popped:\", popped_item)  # Output: Popped: -1\n",
        "\n",
        "print(\"Stack after pop:\")\n",
        "myStack.display()  # Output: 3 -> 2 -> 1 -> None\n",
        "\n",
        "print(\"Minimum element after pop:\", myStack.min())  # Output: Minimum element: 1\n"
      ],
      "metadata": {
        "colab": {
          "base_uri": "https://localhost:8080/"
        },
        "id": "vO7qjO54kDUs",
        "outputId": "419fd8ee-2b92-485b-ee21-a036b38d6f23"
      },
      "execution_count": 24,
      "outputs": [
        {
          "output_type": "stream",
          "name": "stdout",
          "text": [
            "Stack:\n",
            "-1 -> 3 -> 2 -> 1 -> None\n",
            "Minimum element: -1\n",
            "Peek: -1\n",
            "Popped: -1\n",
            "Stack after pop:\n",
            "3 -> 2 -> 1 -> None\n",
            "Minimum element after pop: 1\n"
          ]
        }
      ]
    },
    {
      "cell_type": "markdown",
      "source": [
        "# Implement a two stacks using a single array How would you design it for 3 stacks and a single array? What about n-stacks in a single array ?"
      ],
      "metadata": {
        "id": "d8-mfaPNr_kB"
      }
    },
    {
      "cell_type": "markdown",
      "source": [
        "\n",
        "For 3 stacks in a single array, divide the array into three equal segments and track the tops of each stack separately. For n stacks in a single array, divide the array into n segments and manage the tops of each stack accordingly. The next code is an example for two stacks"
      ],
      "metadata": {
        "id": "T39EucGztmN1"
      }
    },
    {
      "cell_type": "code",
      "source": [
        "class TwoStacksOneArray:\n",
        "    def __init__(self, size):\n",
        "        self.size = size\n",
        "        self.array = [None] * size\n",
        "        self.top1 = -1\n",
        "        self.top2 = size\n",
        "\n",
        "    def is_full1(self):\n",
        "        return self.top1 + 1 == self.top2\n",
        "\n",
        "    def is_full2(self):\n",
        "        return self.top2 - 1 == self.top1\n",
        "\n",
        "    def push1(self, data):\n",
        "        if self.is_full1():\n",
        "            print(\"Stack 1 is full. Cannot push.\")\n",
        "            return\n",
        "        self.top1 += 1\n",
        "        self.array[self.top1] = data\n",
        "\n",
        "    def push2(self, data):\n",
        "        if self.is_full2():\n",
        "            print(\"Stack 2 is full. Cannot push.\")\n",
        "            return\n",
        "        self.top2 -= 1\n",
        "        self.array[self.top2] = data\n",
        "\n",
        "    def pop1(self):\n",
        "        if self.top1 == -1:\n",
        "            print(\"Stack 1 is empty. Cannot pop.\")\n",
        "            return None\n",
        "        data = self.array[self.top1]\n",
        "        self.top1 -= 1\n",
        "        return data\n",
        "\n",
        "    def pop2(self):\n",
        "        if self.top2 == self.size:\n",
        "            print(\"Stack 2 is empty. Cannot pop.\")\n",
        "            return None\n",
        "        data = self.array[self.top2]\n",
        "        self.top2 += 1\n",
        "        return data\n",
        "\n",
        "# Example usage:\n",
        "myTwoStacksOneArray = TwoStacksOneArray(6)\n",
        "\n",
        "myTwoStacksOneArray.push1(1)\n",
        "myTwoStacksOneArray.push1(2)\n",
        "myTwoStacksOneArray.push2(3)\n",
        "myTwoStacksOneArray.push2(4)\n",
        "\n",
        "print(\"Stack 1:\")\n",
        "print(myTwoStacksOneArray.pop1())  # Output: 2\n",
        "print(myTwoStacksOneArray.pop1())  # Output: 1\n",
        "\n",
        "print(\"Stack 2:\")\n",
        "print(myTwoStacksOneArray.pop2())  # Output: 4\n",
        "print(myTwoStacksOneArray.pop2())  # Output: 3\n"
      ],
      "metadata": {
        "colab": {
          "base_uri": "https://localhost:8080/"
        },
        "id": "PemlDCx7sAYI",
        "outputId": "0ad59e97-b46b-42da-8345-bb73be0e306c"
      },
      "execution_count": 27,
      "outputs": [
        {
          "output_type": "stream",
          "name": "stdout",
          "text": [
            "Stack 1:\n",
            "2\n",
            "1\n",
            "Stack 2:\n",
            "4\n",
            "3\n"
          ]
        }
      ]
    },
    {
      "cell_type": "markdown",
      "source": [
        "# Implement a Priority Queue, it is a Special type of queue in which each element is associated with a priority value. Generally, the value of the element itself is considered for assigning the priority."
      ],
      "metadata": {
        "id": "4-bz4wv4uVEg"
      }
    },
    {
      "cell_type": "code",
      "source": [
        "class Node:\n",
        "    def __init__(self, data):\n",
        "        self.data = data\n",
        "        self.next = None\n",
        "\n",
        "class PriorityQueue:\n",
        "    def __init__(self):\n",
        "        self.head = None\n",
        "\n",
        "    def push(self, data):\n",
        "        new_node = Node(data)\n",
        "\n",
        "        # If the priority queue is empty or the new node has higher value,\n",
        "        # insert it at the beginning of the linked list.\n",
        "        if not self.head or data > self.head.data:\n",
        "            new_node.next = self.head\n",
        "            self.head = new_node\n",
        "        else:\n",
        "            current = self.head\n",
        "            while current.next and data <= current.next.data:\n",
        "                current = current.next\n",
        "            new_node.next = current.next\n",
        "            current.next = new_node\n",
        "\n",
        "    def pop(self):\n",
        "        if not self.head:\n",
        "            return None\n",
        "\n",
        "        data = self.head.data\n",
        "        self.head = self.head.next\n",
        "        return data\n",
        "\n",
        "    def is_empty(self):\n",
        "        return not self.head\n",
        "\n",
        "# Example usage:\n",
        "pq = PriorityQueue()\n",
        "pq.push(3)\n",
        "pq.push(1)\n",
        "pq.push(2)\n",
        "\n",
        "while not pq.is_empty():\n",
        "    print(pq.pop())\n"
      ],
      "metadata": {
        "colab": {
          "base_uri": "https://localhost:8080/"
        },
        "id": "QUxt8mT2uVnG",
        "outputId": "3721b727-70c2-4ea2-d8c4-2249ac7873e4"
      },
      "execution_count": 33,
      "outputs": [
        {
          "output_type": "stream",
          "name": "stdout",
          "text": [
            "3\n",
            "2\n",
            "1\n"
          ]
        }
      ]
    }
  ]
}