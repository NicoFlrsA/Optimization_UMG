{
  "nbformat": 4,
  "nbformat_minor": 0,
  "metadata": {
    "colab": {
      "provenance": [],
      "include_colab_link": true
    },
    "kernelspec": {
      "name": "python3",
      "display_name": "Python 3"
    },
    "language_info": {
      "name": "python"
    }
  },
  "cells": [
    {
      "cell_type": "markdown",
      "metadata": {
        "id": "view-in-github",
        "colab_type": "text"
      },
      "source": [
        "<a href=\"https://colab.research.google.com/github/NicoFlrsA/Optimization_UMG/blob/main/Transformaciones_homog%C3%A9neas_NICO.ipynb\" target=\"_parent\"><img src=\"https://colab.research.google.com/assets/colab-badge.svg\" alt=\"Open In Colab\"/></a>"
      ]
    },
    {
      "cell_type": "markdown",
      "source": [
        "# Ejemplo\n",
        "\n",
        "  * Trans<sub>x</sub> (L<sub>1</sub>) Rot<sub>y</sub> (θ) Trans<sub>z</sub> (L<sub>2</sub>)\n",
        "\n"
      ],
      "metadata": {
        "id": "QBnuREapHnKX"
      }
    },
    {
      "cell_type": "code",
      "source": [
        "import sympy as sp\n",
        "\n",
        "# Definimos la matriz homogénea\n",
        "th, th1, th2, th3, L1, L2, L3, L4, L5, L6 = symbols('th th1 th2 th3 L1 L2 L3 L4 L5 L6') # Parámetros simbólicos\n",
        "\n",
        "#Identidad 4x4\n",
        "I = sp.eye(4)\n",
        "\n",
        "T = Matrix([[ cos(th),  0,  sin(th)],\n",
        "            [       0,  1,        0],\n",
        "            [-sin(th),  0,  cos(th)]])\n",
        "\n",
        "V = Matrix([[L1+L2*sin(th)],\n",
        "            [ 0],\n",
        "            [L2*cos(th)]])\n",
        "\n",
        "# Calculamos la inversa de la matriz T\n",
        "T_inv = T.inv()\n",
        "\n",
        "# Calculamos la matriz transformada homogénea inversa\n",
        "d = -T_inv * V\n",
        "\n",
        "# Simplificamos las expresiones\n",
        "R = simplify(T_inv)\n",
        "D = simplify(d)"
      ],
      "metadata": {
        "id": "Esrt6feYcp-y"
      },
      "execution_count": null,
      "outputs": []
    },
    {
      "cell_type": "code",
      "source": [
        "R"
      ],
      "metadata": {
        "colab": {
          "base_uri": "https://localhost:8080/",
          "height": 78
        },
        "id": "Vigi7EJUcuw2",
        "outputId": "79f88882-0d68-4960-c950-492743240c7d"
      },
      "execution_count": null,
      "outputs": [
        {
          "output_type": "execute_result",
          "data": {
            "text/plain": [
              "Matrix([\n",
              "[cos(th), 0, -sin(th)],\n",
              "[      0, 1,        0],\n",
              "[sin(th), 0,  cos(th)]])"
            ],
            "text/latex": "$\\displaystyle \\left[\\begin{matrix}\\cos{\\left(th \\right)} & 0 & - \\sin{\\left(th \\right)}\\\\0 & 1 & 0\\\\\\sin{\\left(th \\right)} & 0 & \\cos{\\left(th \\right)}\\end{matrix}\\right]$"
          },
          "metadata": {},
          "execution_count": 87
        }
      ]
    },
    {
      "cell_type": "code",
      "source": [
        "D"
      ],
      "metadata": {
        "colab": {
          "base_uri": "https://localhost:8080/",
          "height": 78
        },
        "id": "VwOT_DSagez5",
        "outputId": "8153074a-184b-4ce1-9545-0f098aba9274"
      },
      "execution_count": null,
      "outputs": [
        {
          "output_type": "execute_result",
          "data": {
            "text/plain": [
              "Matrix([\n",
              "[     -L1*cos(th)],\n",
              "[               0],\n",
              "[-L1*sin(th) - L2]])"
            ],
            "text/latex": "$\\displaystyle \\left[\\begin{matrix}- L_{1} \\cos{\\left(th \\right)}\\\\0\\\\- L_{1} \\sin{\\left(th \\right)} - L_{2}\\end{matrix}\\right]$"
          },
          "metadata": {},
          "execution_count": 88
        }
      ]
    },
    {
      "cell_type": "code",
      "source": [
        "Ej = traslacion_z(I,-L2) * rotacion_y(I,-th1) * traslacion_x(I, -L1)\n",
        "Ej"
      ],
      "metadata": {
        "id": "Z1av0Drs4oFI",
        "colab": {
          "base_uri": "https://localhost:8080/",
          "height": 98
        },
        "outputId": "ff692218-3712-4899-f4ac-4b55832c2f8a"
      },
      "execution_count": null,
      "outputs": [
        {
          "output_type": "execute_result",
          "data": {
            "text/plain": [
              "Matrix([\n",
              "[cos(th1), 0, -sin(th1),      -L1*cos(th1)],\n",
              "[       0, 1,         0,                 0],\n",
              "[sin(th1), 0,  cos(th1), -L1*sin(th1) - L2],\n",
              "[       0, 0,         0,                 1]])"
            ],
            "text/latex": "$\\displaystyle \\left[\\begin{matrix}\\cos{\\left(th_{1} \\right)} & 0 & - \\sin{\\left(th_{1} \\right)} & - L_{1} \\cos{\\left(th_{1} \\right)}\\\\0 & 1 & 0 & 0\\\\\\sin{\\left(th_{1} \\right)} & 0 & \\cos{\\left(th_{1} \\right)} & - L_{1} \\sin{\\left(th_{1} \\right)} - L_{2}\\\\0 & 0 & 0 & 1\\end{matrix}\\right]$"
          },
          "metadata": {},
          "execution_count": 89
        }
      ]
    },
    {
      "cell_type": "markdown",
      "source": [
        "# Práctica Matrices Homogéneas"
      ],
      "metadata": {
        "id": "dWbFVgDz8P9J"
      }
    },
    {
      "cell_type": "markdown",
      "source": [
        "1. Crea una función o investiga cómo comprobar las 2 propiedades de una matriz de rotación.\n",
        "\n",
        "  * Transpuesta\n",
        "  * Determinante"
      ],
      "metadata": {
        "id": "7Ce29fnL8fCz"
      }
    },
    {
      "cell_type": "code",
      "source": [
        "def es_matriz_rotacion(matriz):\n",
        "    cumple_condiciones = True\n",
        "    # Comprobar si la matriz es cuadrada\n",
        "    if matriz.shape[0] != matriz.shape[1]:\n",
        "        print(\"La matriz no es cuadrada.\")\n",
        "        cumple_condiciones = False\n",
        "\n",
        "\n",
        "    # Comprobar si la transpuesta de la matriz es igual a su inversa\n",
        "    transpuesta = matriz.transpose()\n",
        "    if not transpuesta.multiply(matriz).equals(sp.eye(matriz.shape[0])):\n",
        "        print(\"La matriz no cumple la propiedad de que su transpuesta es igual a su inversa.\")\n",
        "        cumple_condiciones = False\n",
        "\n",
        "\n",
        "    # Comprobar si el determinante es 1\n",
        "    determinante = matriz.det()\n",
        "    if determinante != 1:\n",
        "        print(\"El determinante de la matriz no es igual a 1.\")\n",
        "        cumple_condiciones = False\n",
        "\n",
        "\n",
        "    if cumple_condiciones:\n",
        "        print(\"La matriz cumple las propiedades de una matriz de rotación.\")"
      ],
      "metadata": {
        "id": "LAGyY1Lcgwr3"
      },
      "execution_count": null,
      "outputs": []
    },
    {
      "cell_type": "markdown",
      "source": [
        "2. Valida si los siguietes ejemplos son matrices de rotación validas y escribe por qué si o por qué no."
      ],
      "metadata": {
        "id": "0KfOI9dO9CMJ"
      }
    },
    {
      "cell_type": "code",
      "source": [
        "A = Matrix([[2, 0, 0],\n",
        "            [0, 3, 0],\n",
        "            [0, 0, 1]])\n",
        "\n",
        "B =  Matrix([[3/5, -4/5],\n",
        "             [4/5,  3/5]])\n",
        "\n",
        "C = Matrix([[-1, 0, 0],\n",
        "            [0, 1, 0],\n",
        "            [0, 0, 1]])\n",
        "\n",
        "D =  Matrix([[1, 0, 0],\n",
        "             [0, 12/13, -5/13],\n",
        "             [0, 5/13,  12/13]])\n",
        "\n",
        "E = Matrix([[1, 0, 0],\n",
        "            [0, 1/2, 0],\n",
        "            [0, 0, 0]])\n",
        "\n",
        "F = Matrix([[1/2, -1/2, 0],\n",
        "            [1/2,  1/2, 0],\n",
        "            [0, 0, 1]])\n",
        "\n",
        "print(\"A\")\n",
        "es_matriz_rotacion(A)\n",
        "print(\"B\")\n",
        "es_matriz_rotacion(B)\n",
        "print(\"C\")\n",
        "es_matriz_rotacion(C)\n",
        "print(\"D\")\n",
        "es_matriz_rotacion(D)\n",
        "print(\"E\")\n",
        "es_matriz_rotacion(E)\n",
        "print(\"F\")\n",
        "es_matriz_rotacion(F)"
      ],
      "metadata": {
        "id": "c_4RP33C9Nax",
        "colab": {
          "base_uri": "https://localhost:8080/"
        },
        "outputId": "ad8edf32-1887-4e00-c47e-df73e21bb76e"
      },
      "execution_count": null,
      "outputs": [
        {
          "output_type": "stream",
          "name": "stdout",
          "text": [
            "A\n",
            "La matriz no cumple la propiedad de que su transpuesta es igual a su inversa.\n",
            "El determinante de la matriz no es igual a 1.\n",
            "B\n",
            "La matriz cumple las propiedades de una matriz de rotación.\n",
            "C\n",
            "El determinante de la matriz no es igual a 1.\n",
            "D\n",
            "La matriz no cumple la propiedad de que su transpuesta es igual a su inversa.\n",
            "El determinante de la matriz no es igual a 1.\n",
            "E\n",
            "La matriz no cumple la propiedad de que su transpuesta es igual a su inversa.\n",
            "El determinante de la matriz no es igual a 1.\n",
            "F\n",
            "La matriz no cumple la propiedad de que su transpuesta es igual a su inversa.\n",
            "El determinante de la matriz no es igual a 1.\n"
          ]
        }
      ]
    },
    {
      "cell_type": "markdown",
      "source": [
        "3. Da 2 ejemplos de matrices de rotación, 2 dónde se cumpla la determinante y no la transpuesta, 2 dónde se cumpla la transpuesta pero no la determinante y 2 dónde no se cumpla ninguna. (No uses los ejemplos anteriores)"
      ],
      "metadata": {
        "id": "jTWYp12N5Sjh"
      }
    },
    {
      "cell_type": "code",
      "source": [
        "#Matrices correctas\n",
        "A1 = Matrix([[1, 0, 0],\n",
        "            [0, 1, 0],\n",
        "            [0, 0, 1]])\n",
        "\n",
        "A2 = Matrix([[-1, 0, 0],\n",
        "            [0, 1, 0],\n",
        "            [0, 0, -1]])\n",
        "\n",
        "#No se cumple propiedad de inversa=traspuesta pero si determinante\n",
        "B1 = Matrix([[1, 1, 4],\n",
        "            [0, 1, 0],\n",
        "            [0, 2, 1]])\n",
        "\n",
        "B2 = Matrix([[2, 0, 0],\n",
        "            [1, 1/2, 0],\n",
        "            [0, 0, 1]])\n",
        "#No se cumple propiedad de determinante pero si inversa=traspuesta\n",
        "C1 = Matrix([[-1, 0, 0],\n",
        "            [0, -1, 0],\n",
        "            [0, 0, -1]])\n",
        "\n",
        "C2 = Matrix([[1, 0],\n",
        "            [0, -1]])\n",
        "\n",
        "#No se cumple ninguna\n",
        "D1 = Matrix([[2, 0, 0],\n",
        "            [0, 2, 3],\n",
        "            [0, 5, 2]])\n",
        "\n",
        "D2 = Matrix([[1, 0, -1],\n",
        "            [0, 1, 0],\n",
        "            [0, 1, 2]])\n",
        "\n",
        "#Comprobacion\n",
        "print(\"A1\")\n",
        "es_matriz_rotacion(A1)\n",
        "print(\"A2\")\n",
        "es_matriz_rotacion(A2)\n",
        "print(\"B1\")\n",
        "es_matriz_rotacion(B1)\n",
        "print(\"B2\")\n",
        "es_matriz_rotacion(B2)\n",
        "print(\"C1\")\n",
        "es_matriz_rotacion(C1)\n",
        "print(\"C2\")\n",
        "es_matriz_rotacion(C2)\n",
        "print(\"D1\")\n",
        "es_matriz_rotacion(D1)\n",
        "print(\"D2\")\n",
        "es_matriz_rotacion(D2)"
      ],
      "metadata": {
        "id": "fVOxBO_z5TkF",
        "colab": {
          "base_uri": "https://localhost:8080/"
        },
        "outputId": "718afaf1-b8a1-41b2-896c-5d2180039341"
      },
      "execution_count": null,
      "outputs": [
        {
          "output_type": "stream",
          "name": "stdout",
          "text": [
            "A1\n",
            "La matriz cumple las propiedades de una matriz de rotación.\n",
            "A2\n",
            "La matriz cumple las propiedades de una matriz de rotación.\n",
            "B1\n",
            "La matriz no cumple la propiedad de que su transpuesta es igual a su inversa.\n",
            "B2\n",
            "La matriz no cumple la propiedad de que su transpuesta es igual a su inversa.\n",
            "C1\n",
            "El determinante de la matriz no es igual a 1.\n",
            "C2\n",
            "El determinante de la matriz no es igual a 1.\n",
            "D1\n",
            "La matriz no cumple la propiedad de que su transpuesta es igual a su inversa.\n",
            "El determinante de la matriz no es igual a 1.\n",
            "D2\n",
            "La matriz no cumple la propiedad de que su transpuesta es igual a su inversa.\n",
            "El determinante de la matriz no es igual a 1.\n"
          ]
        }
      ]
    },
    {
      "cell_type": "markdown",
      "source": [
        "4. Escribe a manera de fórmula las matrices de rotación en x, y, z."
      ],
      "metadata": {
        "id": "z0zZGfzgG4Zt"
      }
    },
    {
      "cell_type": "code",
      "source": [
        "def rotacion_x(matriz, angulo):\n",
        "    # Definir la matriz de rotación en el eje x\n",
        "    R_x = sp.Matrix([[1, 0, 0, 0],\n",
        "                     [0, sp.cos(angulo), -sp.sin(angulo), 0],\n",
        "                     [0, sp.sin(angulo), sp.cos(angulo), 0],\n",
        "                     [0, 0, 0, 1]])\n",
        "    # Realizar la rotación\n",
        "    matriz_rotada = R_x * matriz\n",
        "    return matriz_rotada\n",
        "\n",
        "def rotacion_y(matriz, angulo):\n",
        "    # Definir la matriz de rotación en el eje y\n",
        "    R_y = sp.Matrix([[sp.cos(angulo), 0, sp.sin(angulo), 0],\n",
        "                     [0, 1, 0, 0],\n",
        "                     [-sp.sin(angulo), 0, sp.cos(angulo), 0],\n",
        "                     [0, 0, 0, 1]])\n",
        "    # Realizar la rotación\n",
        "    matriz_rotada = R_y * matriz\n",
        "    return matriz_rotada\n",
        "\n",
        "def rotacion_z(matriz, angulo):\n",
        "    # Definir la matriz de rotación en el eje z\n",
        "    R_z = sp.Matrix([[sp.cos(angulo), -sp.sin(angulo), 0, 0],\n",
        "                     [sp.sin(angulo), sp.cos(angulo), 0, 0],\n",
        "                     [0, 0, 1, 0],\n",
        "                     [0, 0, 0, 1]])\n",
        "    # Realizar la rotación\n",
        "    matriz_rotada = R_z * matriz\n",
        "    return matriz_rotada"
      ],
      "metadata": {
        "id": "JFpFe6uJHaOl"
      },
      "execution_count": null,
      "outputs": []
    },
    {
      "cell_type": "markdown",
      "source": [
        "4. Escribe a manera de fórmula las matrices de translación en x, y, z."
      ],
      "metadata": {
        "id": "sSQGtTM4HX_W"
      }
    },
    {
      "cell_type": "code",
      "source": [
        "def traslacion_x(matriz, distancia):\n",
        "    # Definir la matriz de traslación en el eje x\n",
        "    T_x = sp.Matrix([[1, 0, 0, distancia],\n",
        "                     [0, 1, 0, 0],\n",
        "                     [0, 0, 1, 0],\n",
        "                     [0, 0, 0, 1]])\n",
        "    # Realizar la traslación\n",
        "    matriz_trasladada = T_x * matriz\n",
        "    return matriz_trasladada\n",
        "\n",
        "def traslacion_y(matriz, distancia):\n",
        "    # Definir la matriz de traslación en el eje y\n",
        "    T_y = sp.Matrix([[1, 0, 0, 0],\n",
        "                     [0, 1, 0, distancia],\n",
        "                     [0, 0, 1, 0],\n",
        "                     [0, 0, 0, 1]])\n",
        "    # Realizar la traslación\n",
        "    matriz_trasladada = T_y * matriz\n",
        "    return matriz_trasladada\n",
        "\n",
        "def traslacion_z(matriz, distancia):\n",
        "    # Definir la matriz de traslación en el eje z\n",
        "    T_z = sp.Matrix([[1, 0, 0, 0],\n",
        "                     [0, 1, 0, 0],\n",
        "                     [0, 0, 1, distancia],\n",
        "                     [0, 0, 0, 1]])\n",
        "    # Realizar la traslación\n",
        "    matriz_trasladada = T_z * matriz\n",
        "    return matriz_trasladada"
      ],
      "metadata": {
        "id": "G3cSubuGBxOG"
      },
      "execution_count": null,
      "outputs": []
    },
    {
      "cell_type": "markdown",
      "source": [
        "5. Realiza los siguientes recorridos de la matriz para calcular su transformación homogénea normal e inversa.\n",
        "\n",
        "  1. Trans<sub>x</sub> (L<sub>1</sub>) Rot<sub>y</sub> (θ<sub>1</sub>) Rot<sub>z</sub> (θ<sub>2</sub>) Trans<sub>z</sub> (L<sub>2</sub>)\n",
        "    \n",
        "  2. Rot<sub>x</sub> (θ<sub>1</sub>) Trans<sub>y</sub> (L<sub>1</sub>) Rot<sub>z</sub> (θ<sub>2</sub>) Trans<sub>x</sub> (L<sub>2</sub>)\n",
        "    \n",
        "  3. Trans<sub>z</sub> (L<sub>1</sub>) Rot<sub>y</sub> (θ<sub>1</sub>) Rot<sub>x</sub> (θ<sub>2</sub>) Trans<sub>x</sub> (L<sub>2</sub>) Rot<sub>z</sub> (θ<sub>3</sub>)\n",
        "    \n",
        "  4. Rot<sub>y</sub> (θ<sub>1</sub>) Trans<sub>x</sub> (L<sub>1</sub>) Rot<sub>z</sub> (θ<sub>2</sub>) Trans<sub>y</sub> (L<sub>2</sub>) Rot<sub>x</sub> (θ<sub>3</sub>)\n",
        "    \n",
        "  5. Trans<sub>x</sub> (L<sub>1</sub>) Rot<sub>z</sub> (θ<sub>1</sub>) Trans<sub>z</sub> (L<sub>2</sub>) Rot<sub>y</sub> (θ<sub>2</sub>) Trans<sub>y</sub> (L<sub>3</sub>)\n",
        "    \n",
        "  6. Rot<sub>z</sub> (θ<sub>1</sub>) Trans<sub>y</sub> (L<sub>1</sub>) Rot<sub>x</sub> (θ<sub>2</sub>) Trans<sub>x</sub> (L<sub>2</sub>) Rot<sub>y</sub> (θ<sub>3</sub>) Trans<sub>z</sub> (L<sub>3</sub>)\n",
        "    \n",
        "  7. Trans<sub>z</sub> (L<sub>1</sub>) Rot<sub>y</sub> (θ<sub>1</sub>) Rot<sub>x</sub> (θ<sub>2</sub>) Trans<sub>y</sub> (L<sub>2</sub>) Rot<sub>z</sub> (θ<sub>3</sub>) Trans<sub>x</sub> (L<sub>3</sub>)\n",
        "    \n",
        "  8. Rot<sub>x</sub> (θ<sub>1</sub>) Trans<sub>x</sub> (L<sub>1</sub>) Rot<sub>z</sub> (θ<sub>2</sub>) Trans<sub>y</sub> (L<sub>2</sub>) Rot<sub>y</sub> (θ<sub>3</sub>) Trans<sub>z</sub> (L<sub>3</sub>)\n",
        "    \n",
        "  9. Trans<sub>y</sub> (L<sub>1</sub>) Rot<sub>z</sub> (θ<sub>1</sub>) Trans<sub>z</sub> (L<sub>2</sub>) Rot<sub>x</sub> (θ<sub>2</sub>) Trans<sub>x</sub> (L<sub>3</sub>) Rot<sub>y</sub> (θ<sub>3</sub>)\n",
        "    \n",
        "  10. Rot<sub>y</sub> (θ<sub>1</sub>) Trans<sub>z</sub> (L<sub>1</sub>) Rot<sub>x</sub> (θ<sub>2</sub>) Trans<sub>y</sub> (L<sub>2</sub>) Rot<sub>z</sub> (θ<sub>3</sub>) Trans<sub>x</sub> (L<sub>3</sub>)Trans<sub>x</sub> (L<sub>6</sub>)"
      ],
      "metadata": {
        "id": "H-_Wlj4fH3LL"
      }
    },
    {
      "cell_type": "code",
      "source": [
        "Rec1= traslacion_x(I, L1) * rotacion_y(I, th1) * rotacion_z(I, th2) * traslacion_z(I,L2)\n",
        "Rec1"
      ],
      "metadata": {
        "id": "QyuqVD7r257O",
        "colab": {
          "base_uri": "https://localhost:8080/",
          "height": 98
        },
        "outputId": "a3c77ead-266a-4379-8859-72c6800c91e3"
      },
      "execution_count": null,
      "outputs": [
        {
          "output_type": "execute_result",
          "data": {
            "text/plain": [
              "Matrix([\n",
              "[ cos(th1)*cos(th2), -sin(th2)*cos(th1), sin(th1), L1 + L2*sin(th1)],\n",
              "[          sin(th2),           cos(th2),        0,                0],\n",
              "[-sin(th1)*cos(th2),  sin(th1)*sin(th2), cos(th1),      L2*cos(th1)],\n",
              "[                 0,                  0,        0,                1]])"
            ],
            "text/latex": "$\\displaystyle \\left[\\begin{matrix}\\cos{\\left(th_{1} \\right)} \\cos{\\left(th_{2} \\right)} & - \\sin{\\left(th_{2} \\right)} \\cos{\\left(th_{1} \\right)} & \\sin{\\left(th_{1} \\right)} & L_{1} + L_{2} \\sin{\\left(th_{1} \\right)}\\\\\\sin{\\left(th_{2} \\right)} & \\cos{\\left(th_{2} \\right)} & 0 & 0\\\\- \\sin{\\left(th_{1} \\right)} \\cos{\\left(th_{2} \\right)} & \\sin{\\left(th_{1} \\right)} \\sin{\\left(th_{2} \\right)} & \\cos{\\left(th_{1} \\right)} & L_{2} \\cos{\\left(th_{1} \\right)}\\\\0 & 0 & 0 & 1\\end{matrix}\\right]$"
          },
          "metadata": {},
          "execution_count": 95
        }
      ]
    },
    {
      "cell_type": "code",
      "source": [
        "Rec1_inv= traslacion_z(I,-L2) * rotacion_z(I, -th2) * rotacion_y(I, -th1) * traslacion_x(I, -L1)\n",
        "Rec1_inv"
      ],
      "metadata": {
        "id": "XbfoXoBt0zYL",
        "colab": {
          "base_uri": "https://localhost:8080/",
          "height": 98
        },
        "outputId": "e2f31ad3-b6d1-44ba-f9ef-9bd25a88d47b"
      },
      "execution_count": null,
      "outputs": [
        {
          "output_type": "execute_result",
          "data": {
            "text/plain": [
              "Matrix([\n",
              "[ cos(th1)*cos(th2), sin(th2), -sin(th1)*cos(th2), -L1*cos(th1)*cos(th2)],\n",
              "[-sin(th2)*cos(th1), cos(th2),  sin(th1)*sin(th2),  L1*sin(th2)*cos(th1)],\n",
              "[          sin(th1),        0,           cos(th1),     -L1*sin(th1) - L2],\n",
              "[                 0,        0,                  0,                     1]])"
            ],
            "text/latex": "$\\displaystyle \\left[\\begin{matrix}\\cos{\\left(th_{1} \\right)} \\cos{\\left(th_{2} \\right)} & \\sin{\\left(th_{2} \\right)} & - \\sin{\\left(th_{1} \\right)} \\cos{\\left(th_{2} \\right)} & - L_{1} \\cos{\\left(th_{1} \\right)} \\cos{\\left(th_{2} \\right)}\\\\- \\sin{\\left(th_{2} \\right)} \\cos{\\left(th_{1} \\right)} & \\cos{\\left(th_{2} \\right)} & \\sin{\\left(th_{1} \\right)} \\sin{\\left(th_{2} \\right)} & L_{1} \\sin{\\left(th_{2} \\right)} \\cos{\\left(th_{1} \\right)}\\\\\\sin{\\left(th_{1} \\right)} & 0 & \\cos{\\left(th_{1} \\right)} & - L_{1} \\sin{\\left(th_{1} \\right)} - L_{2}\\\\0 & 0 & 0 & 1\\end{matrix}\\right]$"
          },
          "metadata": {},
          "execution_count": 96
        }
      ]
    },
    {
      "cell_type": "code",
      "source": [
        "Rec2= rotacion_x(I, th1) * traslacion_y(I, L1) * rotacion_z(I, th2) * traslacion_x(I, L2)\n",
        "Rec2"
      ],
      "metadata": {
        "id": "tkfTLKnB-5CG",
        "colab": {
          "base_uri": "https://localhost:8080/",
          "height": 98
        },
        "outputId": "1d8c2a7c-4974-4ae0-e54f-7a69d81bf032"
      },
      "execution_count": null,
      "outputs": [
        {
          "output_type": "execute_result",
          "data": {
            "text/plain": [
              "Matrix([\n",
              "[         cos(th2),         -sin(th2),         0,                        L2*cos(th2)],\n",
              "[sin(th2)*cos(th1), cos(th1)*cos(th2), -sin(th1), L1*cos(th1) + L2*sin(th2)*cos(th1)],\n",
              "[sin(th1)*sin(th2), sin(th1)*cos(th2),  cos(th1), L1*sin(th1) + L2*sin(th1)*sin(th2)],\n",
              "[                0,                 0,         0,                                  1]])"
            ],
            "text/latex": "$\\displaystyle \\left[\\begin{matrix}\\cos{\\left(th_{2} \\right)} & - \\sin{\\left(th_{2} \\right)} & 0 & L_{2} \\cos{\\left(th_{2} \\right)}\\\\\\sin{\\left(th_{2} \\right)} \\cos{\\left(th_{1} \\right)} & \\cos{\\left(th_{1} \\right)} \\cos{\\left(th_{2} \\right)} & - \\sin{\\left(th_{1} \\right)} & L_{1} \\cos{\\left(th_{1} \\right)} + L_{2} \\sin{\\left(th_{2} \\right)} \\cos{\\left(th_{1} \\right)}\\\\\\sin{\\left(th_{1} \\right)} \\sin{\\left(th_{2} \\right)} & \\sin{\\left(th_{1} \\right)} \\cos{\\left(th_{2} \\right)} & \\cos{\\left(th_{1} \\right)} & L_{1} \\sin{\\left(th_{1} \\right)} + L_{2} \\sin{\\left(th_{1} \\right)} \\sin{\\left(th_{2} \\right)}\\\\0 & 0 & 0 & 1\\end{matrix}\\right]$"
          },
          "metadata": {},
          "execution_count": 97
        }
      ]
    },
    {
      "cell_type": "code",
      "source": [
        "Rec2_inv= traslacion_x(I, -L2) * rotacion_z(I, -th2) * traslacion_y(I, -L1) * rotacion_x(I, -th1)\n",
        "Rec2_inv"
      ],
      "metadata": {
        "id": "yYuNFooZ-5L4",
        "colab": {
          "base_uri": "https://localhost:8080/",
          "height": 98
        },
        "outputId": "fd42f547-51a7-4626-fa7e-dfc51db5c834"
      },
      "execution_count": null,
      "outputs": [
        {
          "output_type": "execute_result",
          "data": {
            "text/plain": [
              "Matrix([\n",
              "[ cos(th2), sin(th2)*cos(th1), sin(th1)*sin(th2), -L1*sin(th2) - L2],\n",
              "[-sin(th2), cos(th1)*cos(th2), sin(th1)*cos(th2),      -L1*cos(th2)],\n",
              "[        0,         -sin(th1),          cos(th1),                 0],\n",
              "[        0,                 0,                 0,                 1]])"
            ],
            "text/latex": "$\\displaystyle \\left[\\begin{matrix}\\cos{\\left(th_{2} \\right)} & \\sin{\\left(th_{2} \\right)} \\cos{\\left(th_{1} \\right)} & \\sin{\\left(th_{1} \\right)} \\sin{\\left(th_{2} \\right)} & - L_{1} \\sin{\\left(th_{2} \\right)} - L_{2}\\\\- \\sin{\\left(th_{2} \\right)} & \\cos{\\left(th_{1} \\right)} \\cos{\\left(th_{2} \\right)} & \\sin{\\left(th_{1} \\right)} \\cos{\\left(th_{2} \\right)} & - L_{1} \\cos{\\left(th_{2} \\right)}\\\\0 & - \\sin{\\left(th_{1} \\right)} & \\cos{\\left(th_{1} \\right)} & 0\\\\0 & 0 & 0 & 1\\end{matrix}\\right]$"
          },
          "metadata": {},
          "execution_count": 98
        }
      ]
    },
    {
      "cell_type": "code",
      "source": [
        "Rec3 = traslacion_z(I, L1) * rotacion_y(I, th1) * rotacion_x(I, th2) * traslacion_x(I, L2) * rotacion_z(I, th3)\n",
        "Rec3"
      ],
      "metadata": {
        "id": "LYAeTwIwA7nn",
        "colab": {
          "base_uri": "https://localhost:8080/",
          "height": 98
        },
        "outputId": "4fad1b37-8f37-485a-a530-a05c4228a9c8"
      },
      "execution_count": null,
      "outputs": [
        {
          "output_type": "execute_result",
          "data": {
            "text/plain": [
              "Matrix([\n",
              "[ sin(th1)*sin(th2)*sin(th3) + cos(th1)*cos(th3), sin(th1)*sin(th2)*cos(th3) - sin(th3)*cos(th1), sin(th1)*cos(th2),      L2*cos(th1)],\n",
              "[                              sin(th3)*cos(th2),                              cos(th2)*cos(th3),         -sin(th2),                0],\n",
              "[-sin(th1)*cos(th3) + sin(th2)*sin(th3)*cos(th1), sin(th1)*sin(th3) + sin(th2)*cos(th1)*cos(th3), cos(th1)*cos(th2), L1 - L2*sin(th1)],\n",
              "[                                              0,                                              0,                 0,                1]])"
            ],
            "text/latex": "$\\displaystyle \\left[\\begin{matrix}\\sin{\\left(th_{1} \\right)} \\sin{\\left(th_{2} \\right)} \\sin{\\left(th_{3} \\right)} + \\cos{\\left(th_{1} \\right)} \\cos{\\left(th_{3} \\right)} & \\sin{\\left(th_{1} \\right)} \\sin{\\left(th_{2} \\right)} \\cos{\\left(th_{3} \\right)} - \\sin{\\left(th_{3} \\right)} \\cos{\\left(th_{1} \\right)} & \\sin{\\left(th_{1} \\right)} \\cos{\\left(th_{2} \\right)} & L_{2} \\cos{\\left(th_{1} \\right)}\\\\\\sin{\\left(th_{3} \\right)} \\cos{\\left(th_{2} \\right)} & \\cos{\\left(th_{2} \\right)} \\cos{\\left(th_{3} \\right)} & - \\sin{\\left(th_{2} \\right)} & 0\\\\- \\sin{\\left(th_{1} \\right)} \\cos{\\left(th_{3} \\right)} + \\sin{\\left(th_{2} \\right)} \\sin{\\left(th_{3} \\right)} \\cos{\\left(th_{1} \\right)} & \\sin{\\left(th_{1} \\right)} \\sin{\\left(th_{3} \\right)} + \\sin{\\left(th_{2} \\right)} \\cos{\\left(th_{1} \\right)} \\cos{\\left(th_{3} \\right)} & \\cos{\\left(th_{1} \\right)} \\cos{\\left(th_{2} \\right)} & L_{1} - L_{2} \\sin{\\left(th_{1} \\right)}\\\\0 & 0 & 0 & 1\\end{matrix}\\right]$"
          },
          "metadata": {},
          "execution_count": 99
        }
      ]
    },
    {
      "cell_type": "code",
      "source": [
        "Rec3_inv = rotacion_z(I, -th3) * traslacion_x(I, -L2) * rotacion_x(I, -th2) * rotacion_y(I, -th1) * traslacion_z(I, -L1)\n",
        "Rec3_inv"
      ],
      "metadata": {
        "id": "q3LeTDq-A7up",
        "colab": {
          "base_uri": "https://localhost:8080/",
          "height": 98
        },
        "outputId": "5c03f632-5515-4811-9c92-d28f22a4848e"
      },
      "execution_count": null,
      "outputs": [
        {
          "output_type": "execute_result",
          "data": {
            "text/plain": [
              "Matrix([\n",
              "[sin(th1)*sin(th2)*sin(th3) + cos(th1)*cos(th3), sin(th3)*cos(th2), -sin(th1)*cos(th3) + sin(th2)*sin(th3)*cos(th1), -L1*(-sin(th1)*cos(th3) + sin(th2)*sin(th3)*cos(th1)) - L2*cos(th3)],\n",
              "[sin(th1)*sin(th2)*cos(th3) - sin(th3)*cos(th1), cos(th2)*cos(th3),  sin(th1)*sin(th3) + sin(th2)*cos(th1)*cos(th3),  -L1*(sin(th1)*sin(th3) + sin(th2)*cos(th1)*cos(th3)) + L2*sin(th3)],\n",
              "[                             sin(th1)*cos(th2),         -sin(th2),                               cos(th1)*cos(th2),                                               -L1*cos(th1)*cos(th2)],\n",
              "[                                             0,                 0,                                               0,                                                                   1]])"
            ],
            "text/latex": "$\\displaystyle \\left[\\begin{matrix}\\sin{\\left(th_{1} \\right)} \\sin{\\left(th_{2} \\right)} \\sin{\\left(th_{3} \\right)} + \\cos{\\left(th_{1} \\right)} \\cos{\\left(th_{3} \\right)} & \\sin{\\left(th_{3} \\right)} \\cos{\\left(th_{2} \\right)} & - \\sin{\\left(th_{1} \\right)} \\cos{\\left(th_{3} \\right)} + \\sin{\\left(th_{2} \\right)} \\sin{\\left(th_{3} \\right)} \\cos{\\left(th_{1} \\right)} & - L_{1} \\left(- \\sin{\\left(th_{1} \\right)} \\cos{\\left(th_{3} \\right)} + \\sin{\\left(th_{2} \\right)} \\sin{\\left(th_{3} \\right)} \\cos{\\left(th_{1} \\right)}\\right) - L_{2} \\cos{\\left(th_{3} \\right)}\\\\\\sin{\\left(th_{1} \\right)} \\sin{\\left(th_{2} \\right)} \\cos{\\left(th_{3} \\right)} - \\sin{\\left(th_{3} \\right)} \\cos{\\left(th_{1} \\right)} & \\cos{\\left(th_{2} \\right)} \\cos{\\left(th_{3} \\right)} & \\sin{\\left(th_{1} \\right)} \\sin{\\left(th_{3} \\right)} + \\sin{\\left(th_{2} \\right)} \\cos{\\left(th_{1} \\right)} \\cos{\\left(th_{3} \\right)} & - L_{1} \\left(\\sin{\\left(th_{1} \\right)} \\sin{\\left(th_{3} \\right)} + \\sin{\\left(th_{2} \\right)} \\cos{\\left(th_{1} \\right)} \\cos{\\left(th_{3} \\right)}\\right) + L_{2} \\sin{\\left(th_{3} \\right)}\\\\\\sin{\\left(th_{1} \\right)} \\cos{\\left(th_{2} \\right)} & - \\sin{\\left(th_{2} \\right)} & \\cos{\\left(th_{1} \\right)} \\cos{\\left(th_{2} \\right)} & - L_{1} \\cos{\\left(th_{1} \\right)} \\cos{\\left(th_{2} \\right)}\\\\0 & 0 & 0 & 1\\end{matrix}\\right]$"
          },
          "metadata": {},
          "execution_count": 100
        }
      ]
    },
    {
      "cell_type": "code",
      "source": [
        "Rec4 = rotacion_y(I, th1) * traslacion_x(I, L1) * rotacion_z(I, th2) * traslacion_y(I, L2) * rotacion_x(I, th3)\n",
        "Rec4"
      ],
      "metadata": {
        "id": "nsw8kzjCBdHF",
        "colab": {
          "base_uri": "https://localhost:8080/",
          "height": 98
        },
        "outputId": "455cd5cb-f805-4769-f38d-50d5d2e6c665"
      },
      "execution_count": null,
      "outputs": [
        {
          "output_type": "execute_result",
          "data": {
            "text/plain": [
              "Matrix([\n",
              "[ cos(th1)*cos(th2), sin(th1)*sin(th3) - sin(th2)*cos(th1)*cos(th3),  sin(th1)*cos(th3) + sin(th2)*sin(th3)*cos(th1),  L1*cos(th1) - L2*sin(th2)*cos(th1)],\n",
              "[          sin(th2),                              cos(th2)*cos(th3),                              -sin(th3)*cos(th2),                         L2*cos(th2)],\n",
              "[-sin(th1)*cos(th2), sin(th1)*sin(th2)*cos(th3) + sin(th3)*cos(th1), -sin(th1)*sin(th2)*sin(th3) + cos(th1)*cos(th3), -L1*sin(th1) + L2*sin(th1)*sin(th2)],\n",
              "[                 0,                                              0,                                               0,                                   1]])"
            ],
            "text/latex": "$\\displaystyle \\left[\\begin{matrix}\\cos{\\left(th_{1} \\right)} \\cos{\\left(th_{2} \\right)} & \\sin{\\left(th_{1} \\right)} \\sin{\\left(th_{3} \\right)} - \\sin{\\left(th_{2} \\right)} \\cos{\\left(th_{1} \\right)} \\cos{\\left(th_{3} \\right)} & \\sin{\\left(th_{1} \\right)} \\cos{\\left(th_{3} \\right)} + \\sin{\\left(th_{2} \\right)} \\sin{\\left(th_{3} \\right)} \\cos{\\left(th_{1} \\right)} & L_{1} \\cos{\\left(th_{1} \\right)} - L_{2} \\sin{\\left(th_{2} \\right)} \\cos{\\left(th_{1} \\right)}\\\\\\sin{\\left(th_{2} \\right)} & \\cos{\\left(th_{2} \\right)} \\cos{\\left(th_{3} \\right)} & - \\sin{\\left(th_{3} \\right)} \\cos{\\left(th_{2} \\right)} & L_{2} \\cos{\\left(th_{2} \\right)}\\\\- \\sin{\\left(th_{1} \\right)} \\cos{\\left(th_{2} \\right)} & \\sin{\\left(th_{1} \\right)} \\sin{\\left(th_{2} \\right)} \\cos{\\left(th_{3} \\right)} + \\sin{\\left(th_{3} \\right)} \\cos{\\left(th_{1} \\right)} & - \\sin{\\left(th_{1} \\right)} \\sin{\\left(th_{2} \\right)} \\sin{\\left(th_{3} \\right)} + \\cos{\\left(th_{1} \\right)} \\cos{\\left(th_{3} \\right)} & - L_{1} \\sin{\\left(th_{1} \\right)} + L_{2} \\sin{\\left(th_{1} \\right)} \\sin{\\left(th_{2} \\right)}\\\\0 & 0 & 0 & 1\\end{matrix}\\right]$"
          },
          "metadata": {},
          "execution_count": 101
        }
      ]
    },
    {
      "cell_type": "code",
      "source": [
        "Rec4_inv = rotacion_x(I, -th3) * traslacion_y(I, -L2) * rotacion_z(I, -th2) * traslacion_x(I, -L1) * rotacion_y(I, -th1)\n",
        "Rec4_inv"
      ],
      "metadata": {
        "id": "GISIdxW6BkLW",
        "colab": {
          "base_uri": "https://localhost:8080/",
          "height": 98
        },
        "outputId": "de8cc72e-cb34-472d-f5fa-807397a5c8f2"
      },
      "execution_count": null,
      "outputs": [
        {
          "output_type": "execute_result",
          "data": {
            "text/plain": [
              "Matrix([\n",
              "[                             cos(th1)*cos(th2),           sin(th2),                              -sin(th1)*cos(th2),                        -L1*cos(th2)],\n",
              "[sin(th1)*sin(th3) - sin(th2)*cos(th1)*cos(th3),  cos(th2)*cos(th3),  sin(th1)*sin(th2)*cos(th3) + sin(th3)*cos(th1),  L1*sin(th2)*cos(th3) - L2*cos(th3)],\n",
              "[sin(th1)*cos(th3) + sin(th2)*sin(th3)*cos(th1), -sin(th3)*cos(th2), -sin(th1)*sin(th2)*sin(th3) + cos(th1)*cos(th3), -L1*sin(th2)*sin(th3) + L2*sin(th3)],\n",
              "[                                             0,                  0,                                               0,                                   1]])"
            ],
            "text/latex": "$\\displaystyle \\left[\\begin{matrix}\\cos{\\left(th_{1} \\right)} \\cos{\\left(th_{2} \\right)} & \\sin{\\left(th_{2} \\right)} & - \\sin{\\left(th_{1} \\right)} \\cos{\\left(th_{2} \\right)} & - L_{1} \\cos{\\left(th_{2} \\right)}\\\\\\sin{\\left(th_{1} \\right)} \\sin{\\left(th_{3} \\right)} - \\sin{\\left(th_{2} \\right)} \\cos{\\left(th_{1} \\right)} \\cos{\\left(th_{3} \\right)} & \\cos{\\left(th_{2} \\right)} \\cos{\\left(th_{3} \\right)} & \\sin{\\left(th_{1} \\right)} \\sin{\\left(th_{2} \\right)} \\cos{\\left(th_{3} \\right)} + \\sin{\\left(th_{3} \\right)} \\cos{\\left(th_{1} \\right)} & L_{1} \\sin{\\left(th_{2} \\right)} \\cos{\\left(th_{3} \\right)} - L_{2} \\cos{\\left(th_{3} \\right)}\\\\\\sin{\\left(th_{1} \\right)} \\cos{\\left(th_{3} \\right)} + \\sin{\\left(th_{2} \\right)} \\sin{\\left(th_{3} \\right)} \\cos{\\left(th_{1} \\right)} & - \\sin{\\left(th_{3} \\right)} \\cos{\\left(th_{2} \\right)} & - \\sin{\\left(th_{1} \\right)} \\sin{\\left(th_{2} \\right)} \\sin{\\left(th_{3} \\right)} + \\cos{\\left(th_{1} \\right)} \\cos{\\left(th_{3} \\right)} & - L_{1} \\sin{\\left(th_{2} \\right)} \\sin{\\left(th_{3} \\right)} + L_{2} \\sin{\\left(th_{3} \\right)}\\\\0 & 0 & 0 & 1\\end{matrix}\\right]$"
          },
          "metadata": {},
          "execution_count": 102
        }
      ]
    },
    {
      "cell_type": "code",
      "source": [
        "Rec5 = traslacion_x(I, L1) * rotacion_z(I, th1) * traslacion_z(I, L2) * rotacion_y(I, th2) * traslacion_y(I, L3)\n",
        "Rec5\n"
      ],
      "metadata": {
        "id": "Tjs3Vn1QBxpx",
        "colab": {
          "base_uri": "https://localhost:8080/",
          "height": 98
        },
        "outputId": "86562953-f007-47b3-e5a0-50af16600154"
      },
      "execution_count": null,
      "outputs": [
        {
          "output_type": "execute_result",
          "data": {
            "text/plain": [
              "Matrix([\n",
              "[cos(th1)*cos(th2), -sin(th1), sin(th2)*cos(th1), L1 - L3*sin(th1)],\n",
              "[sin(th1)*cos(th2),  cos(th1), sin(th1)*sin(th2),      L3*cos(th1)],\n",
              "[        -sin(th2),         0,          cos(th2),               L2],\n",
              "[                0,         0,                 0,                1]])"
            ],
            "text/latex": "$\\displaystyle \\left[\\begin{matrix}\\cos{\\left(th_{1} \\right)} \\cos{\\left(th_{2} \\right)} & - \\sin{\\left(th_{1} \\right)} & \\sin{\\left(th_{2} \\right)} \\cos{\\left(th_{1} \\right)} & L_{1} - L_{3} \\sin{\\left(th_{1} \\right)}\\\\\\sin{\\left(th_{1} \\right)} \\cos{\\left(th_{2} \\right)} & \\cos{\\left(th_{1} \\right)} & \\sin{\\left(th_{1} \\right)} \\sin{\\left(th_{2} \\right)} & L_{3} \\cos{\\left(th_{1} \\right)}\\\\- \\sin{\\left(th_{2} \\right)} & 0 & \\cos{\\left(th_{2} \\right)} & L_{2}\\\\0 & 0 & 0 & 1\\end{matrix}\\right]$"
          },
          "metadata": {},
          "execution_count": 103
        }
      ]
    },
    {
      "cell_type": "code",
      "source": [
        "Rec5_inv = traslacion_y(I, -L3) * rotacion_y(I, -th2) * traslacion_z(I, -L2) * rotacion_z(I, -th1) * traslacion_x(I, -L1)\n",
        "Rec5_inv"
      ],
      "metadata": {
        "id": "z94we_DPBxxE",
        "colab": {
          "base_uri": "https://localhost:8080/",
          "height": 98
        },
        "outputId": "848294cf-3689-492b-8944-2d61abed9b32"
      },
      "execution_count": null,
      "outputs": [
        {
          "output_type": "execute_result",
          "data": {
            "text/plain": [
              "Matrix([\n",
              "[cos(th1)*cos(th2), sin(th1)*cos(th2), -sin(th2), -L1*cos(th1)*cos(th2) + L2*sin(th2)],\n",
              "[        -sin(th1),          cos(th1),         0,                    L1*sin(th1) - L3],\n",
              "[sin(th2)*cos(th1), sin(th1)*sin(th2),  cos(th2), -L1*sin(th2)*cos(th1) - L2*cos(th2)],\n",
              "[                0,                 0,         0,                                   1]])"
            ],
            "text/latex": "$\\displaystyle \\left[\\begin{matrix}\\cos{\\left(th_{1} \\right)} \\cos{\\left(th_{2} \\right)} & \\sin{\\left(th_{1} \\right)} \\cos{\\left(th_{2} \\right)} & - \\sin{\\left(th_{2} \\right)} & - L_{1} \\cos{\\left(th_{1} \\right)} \\cos{\\left(th_{2} \\right)} + L_{2} \\sin{\\left(th_{2} \\right)}\\\\- \\sin{\\left(th_{1} \\right)} & \\cos{\\left(th_{1} \\right)} & 0 & L_{1} \\sin{\\left(th_{1} \\right)} - L_{3}\\\\\\sin{\\left(th_{2} \\right)} \\cos{\\left(th_{1} \\right)} & \\sin{\\left(th_{1} \\right)} \\sin{\\left(th_{2} \\right)} & \\cos{\\left(th_{2} \\right)} & - L_{1} \\sin{\\left(th_{2} \\right)} \\cos{\\left(th_{1} \\right)} - L_{2} \\cos{\\left(th_{2} \\right)}\\\\0 & 0 & 0 & 1\\end{matrix}\\right]$"
          },
          "metadata": {},
          "execution_count": 104
        }
      ]
    },
    {
      "cell_type": "code",
      "source": [
        "Rec6 = rotacion_z(I, th1) * traslacion_y(I, L1) * rotacion_x(I, th2) * traslacion_x(I, L2) * rotacion_y(I, th3) * traslacion_z(I, L3)\n",
        "Rec6"
      ],
      "metadata": {
        "id": "qOln-7alCCZv",
        "colab": {
          "base_uri": "https://localhost:8080/",
          "height": 118
        },
        "outputId": "285de151-a98c-4b11-e9f8-ea0c2a3b4216"
      },
      "execution_count": null,
      "outputs": [
        {
          "output_type": "execute_result",
          "data": {
            "text/plain": [
              "Matrix([\n",
              "[-sin(th1)*sin(th2)*sin(th3) + cos(th1)*cos(th3), -sin(th1)*cos(th2), sin(th1)*sin(th2)*cos(th3) + sin(th3)*cos(th1), -L1*sin(th1) + L2*cos(th1) + L3*(sin(th1)*sin(th2)*cos(th3) + sin(th3)*cos(th1))],\n",
              "[ sin(th1)*cos(th3) + sin(th2)*sin(th3)*cos(th1),  cos(th1)*cos(th2), sin(th1)*sin(th3) - sin(th2)*cos(th1)*cos(th3),  L1*cos(th1) + L2*sin(th1) + L3*(sin(th1)*sin(th3) - sin(th2)*cos(th1)*cos(th3))],\n",
              "[                             -sin(th3)*cos(th2),           sin(th2),                              cos(th2)*cos(th3),                                                             L3*cos(th2)*cos(th3)],\n",
              "[                                              0,                  0,                                              0,                                                                                1]])"
            ],
            "text/latex": "$\\displaystyle \\left[\\begin{matrix}- \\sin{\\left(th_{1} \\right)} \\sin{\\left(th_{2} \\right)} \\sin{\\left(th_{3} \\right)} + \\cos{\\left(th_{1} \\right)} \\cos{\\left(th_{3} \\right)} & - \\sin{\\left(th_{1} \\right)} \\cos{\\left(th_{2} \\right)} & \\sin{\\left(th_{1} \\right)} \\sin{\\left(th_{2} \\right)} \\cos{\\left(th_{3} \\right)} + \\sin{\\left(th_{3} \\right)} \\cos{\\left(th_{1} \\right)} & - L_{1} \\sin{\\left(th_{1} \\right)} + L_{2} \\cos{\\left(th_{1} \\right)} + L_{3} \\left(\\sin{\\left(th_{1} \\right)} \\sin{\\left(th_{2} \\right)} \\cos{\\left(th_{3} \\right)} + \\sin{\\left(th_{3} \\right)} \\cos{\\left(th_{1} \\right)}\\right)\\\\\\sin{\\left(th_{1} \\right)} \\cos{\\left(th_{3} \\right)} + \\sin{\\left(th_{2} \\right)} \\sin{\\left(th_{3} \\right)} \\cos{\\left(th_{1} \\right)} & \\cos{\\left(th_{1} \\right)} \\cos{\\left(th_{2} \\right)} & \\sin{\\left(th_{1} \\right)} \\sin{\\left(th_{3} \\right)} - \\sin{\\left(th_{2} \\right)} \\cos{\\left(th_{1} \\right)} \\cos{\\left(th_{3} \\right)} & L_{1} \\cos{\\left(th_{1} \\right)} + L_{2} \\sin{\\left(th_{1} \\right)} + L_{3} \\left(\\sin{\\left(th_{1} \\right)} \\sin{\\left(th_{3} \\right)} - \\sin{\\left(th_{2} \\right)} \\cos{\\left(th_{1} \\right)} \\cos{\\left(th_{3} \\right)}\\right)\\\\- \\sin{\\left(th_{3} \\right)} \\cos{\\left(th_{2} \\right)} & \\sin{\\left(th_{2} \\right)} & \\cos{\\left(th_{2} \\right)} \\cos{\\left(th_{3} \\right)} & L_{3} \\cos{\\left(th_{2} \\right)} \\cos{\\left(th_{3} \\right)}\\\\0 & 0 & 0 & 1\\end{matrix}\\right]$"
          },
          "metadata": {},
          "execution_count": 105
        }
      ]
    },
    {
      "cell_type": "code",
      "source": [
        "Rec6_inv = traslacion_z(I, -L3) * rotacion_y(I, -th3) * traslacion_x(I, -L2) * rotacion_x(I, -th2) * traslacion_y(I, -L1) * rotacion_z(I, -th1)\n",
        "Rec6_inv"
      ],
      "metadata": {
        "id": "k-IbLmlUCEwU",
        "colab": {
          "base_uri": "https://localhost:8080/",
          "height": 98
        },
        "outputId": "358c8580-f98e-45d9-b6ac-1727cdbbe03d"
      },
      "execution_count": null,
      "outputs": [
        {
          "output_type": "execute_result",
          "data": {
            "text/plain": [
              "Matrix([\n",
              "[-sin(th1)*sin(th2)*sin(th3) + cos(th1)*cos(th3), sin(th1)*cos(th3) + sin(th2)*sin(th3)*cos(th1), -sin(th3)*cos(th2),     -L1*sin(th2)*sin(th3) - L2*cos(th3)],\n",
              "[                             -sin(th1)*cos(th2),                              cos(th1)*cos(th2),           sin(th2),                            -L1*cos(th2)],\n",
              "[ sin(th1)*sin(th2)*cos(th3) + sin(th3)*cos(th1), sin(th1)*sin(th3) - sin(th2)*cos(th1)*cos(th3),  cos(th2)*cos(th3), L1*sin(th2)*cos(th3) - L2*sin(th3) - L3],\n",
              "[                                              0,                                              0,                  0,                                       1]])"
            ],
            "text/latex": "$\\displaystyle \\left[\\begin{matrix}- \\sin{\\left(th_{1} \\right)} \\sin{\\left(th_{2} \\right)} \\sin{\\left(th_{3} \\right)} + \\cos{\\left(th_{1} \\right)} \\cos{\\left(th_{3} \\right)} & \\sin{\\left(th_{1} \\right)} \\cos{\\left(th_{3} \\right)} + \\sin{\\left(th_{2} \\right)} \\sin{\\left(th_{3} \\right)} \\cos{\\left(th_{1} \\right)} & - \\sin{\\left(th_{3} \\right)} \\cos{\\left(th_{2} \\right)} & - L_{1} \\sin{\\left(th_{2} \\right)} \\sin{\\left(th_{3} \\right)} - L_{2} \\cos{\\left(th_{3} \\right)}\\\\- \\sin{\\left(th_{1} \\right)} \\cos{\\left(th_{2} \\right)} & \\cos{\\left(th_{1} \\right)} \\cos{\\left(th_{2} \\right)} & \\sin{\\left(th_{2} \\right)} & - L_{1} \\cos{\\left(th_{2} \\right)}\\\\\\sin{\\left(th_{1} \\right)} \\sin{\\left(th_{2} \\right)} \\cos{\\left(th_{3} \\right)} + \\sin{\\left(th_{3} \\right)} \\cos{\\left(th_{1} \\right)} & \\sin{\\left(th_{1} \\right)} \\sin{\\left(th_{3} \\right)} - \\sin{\\left(th_{2} \\right)} \\cos{\\left(th_{1} \\right)} \\cos{\\left(th_{3} \\right)} & \\cos{\\left(th_{2} \\right)} \\cos{\\left(th_{3} \\right)} & L_{1} \\sin{\\left(th_{2} \\right)} \\cos{\\left(th_{3} \\right)} - L_{2} \\sin{\\left(th_{3} \\right)} - L_{3}\\\\0 & 0 & 0 & 1\\end{matrix}\\right]$"
          },
          "metadata": {},
          "execution_count": 106
        }
      ]
    },
    {
      "cell_type": "code",
      "source": [
        "Rec7 = traslacion_z(I, L1) * rotacion_y(I, th1) * rotacion_x(I, th2) * traslacion_y(I, L2) * rotacion_z(I, th3) * traslacion_x(I, L3)\n",
        "Rec7"
      ],
      "metadata": {
        "id": "PfZDak2oCNEA",
        "colab": {
          "base_uri": "https://localhost:8080/",
          "height": 118
        },
        "outputId": "f63673b7-9923-4b08-8615-2dcc45707364"
      },
      "execution_count": null,
      "outputs": [
        {
          "output_type": "execute_result",
          "data": {
            "text/plain": [
              "Matrix([\n",
              "[ sin(th1)*sin(th2)*sin(th3) + cos(th1)*cos(th3), sin(th1)*sin(th2)*cos(th3) - sin(th3)*cos(th1), sin(th1)*cos(th2),       L2*sin(th1)*sin(th2) + L3*(sin(th1)*sin(th2)*sin(th3) + cos(th1)*cos(th3))],\n",
              "[                              sin(th3)*cos(th2),                              cos(th2)*cos(th3),         -sin(th2),                                               L2*cos(th2) + L3*sin(th3)*cos(th2)],\n",
              "[-sin(th1)*cos(th3) + sin(th2)*sin(th3)*cos(th1), sin(th1)*sin(th3) + sin(th2)*cos(th1)*cos(th3), cos(th1)*cos(th2), L1 + L2*sin(th2)*cos(th1) + L3*(-sin(th1)*cos(th3) + sin(th2)*sin(th3)*cos(th1))],\n",
              "[                                              0,                                              0,                 0,                                                                                1]])"
            ],
            "text/latex": "$\\displaystyle \\left[\\begin{matrix}\\sin{\\left(th_{1} \\right)} \\sin{\\left(th_{2} \\right)} \\sin{\\left(th_{3} \\right)} + \\cos{\\left(th_{1} \\right)} \\cos{\\left(th_{3} \\right)} & \\sin{\\left(th_{1} \\right)} \\sin{\\left(th_{2} \\right)} \\cos{\\left(th_{3} \\right)} - \\sin{\\left(th_{3} \\right)} \\cos{\\left(th_{1} \\right)} & \\sin{\\left(th_{1} \\right)} \\cos{\\left(th_{2} \\right)} & L_{2} \\sin{\\left(th_{1} \\right)} \\sin{\\left(th_{2} \\right)} + L_{3} \\left(\\sin{\\left(th_{1} \\right)} \\sin{\\left(th_{2} \\right)} \\sin{\\left(th_{3} \\right)} + \\cos{\\left(th_{1} \\right)} \\cos{\\left(th_{3} \\right)}\\right)\\\\\\sin{\\left(th_{3} \\right)} \\cos{\\left(th_{2} \\right)} & \\cos{\\left(th_{2} \\right)} \\cos{\\left(th_{3} \\right)} & - \\sin{\\left(th_{2} \\right)} & L_{2} \\cos{\\left(th_{2} \\right)} + L_{3} \\sin{\\left(th_{3} \\right)} \\cos{\\left(th_{2} \\right)}\\\\- \\sin{\\left(th_{1} \\right)} \\cos{\\left(th_{3} \\right)} + \\sin{\\left(th_{2} \\right)} \\sin{\\left(th_{3} \\right)} \\cos{\\left(th_{1} \\right)} & \\sin{\\left(th_{1} \\right)} \\sin{\\left(th_{3} \\right)} + \\sin{\\left(th_{2} \\right)} \\cos{\\left(th_{1} \\right)} \\cos{\\left(th_{3} \\right)} & \\cos{\\left(th_{1} \\right)} \\cos{\\left(th_{2} \\right)} & L_{1} + L_{2} \\sin{\\left(th_{2} \\right)} \\cos{\\left(th_{1} \\right)} + L_{3} \\left(- \\sin{\\left(th_{1} \\right)} \\cos{\\left(th_{3} \\right)} + \\sin{\\left(th_{2} \\right)} \\sin{\\left(th_{3} \\right)} \\cos{\\left(th_{1} \\right)}\\right)\\\\0 & 0 & 0 & 1\\end{matrix}\\right]$"
          },
          "metadata": {},
          "execution_count": 107
        }
      ]
    },
    {
      "cell_type": "code",
      "source": [
        "Rec7_inv = traslacion_x(I, -L3) * rotacion_z(I, -th3) * traslacion_y(I, -L2) * rotacion_x(I, -th2) * rotacion_y(I, -th1) * traslacion_z(I, -L1)\n",
        "Rec7_inv"
      ],
      "metadata": {
        "id": "wa1aAo4cCNM9",
        "colab": {
          "base_uri": "https://localhost:8080/",
          "height": 98
        },
        "outputId": "3a83dc84-8c86-457a-efbb-028c8c8c8cbb"
      },
      "execution_count": null,
      "outputs": [
        {
          "output_type": "execute_result",
          "data": {
            "text/plain": [
              "Matrix([\n",
              "[sin(th1)*sin(th2)*sin(th3) + cos(th1)*cos(th3), sin(th3)*cos(th2), -sin(th1)*cos(th3) + sin(th2)*sin(th3)*cos(th1), -L1*(-sin(th1)*cos(th3) + sin(th2)*sin(th3)*cos(th1)) - L2*sin(th3) - L3],\n",
              "[sin(th1)*sin(th2)*cos(th3) - sin(th3)*cos(th1), cos(th2)*cos(th3),  sin(th1)*sin(th3) + sin(th2)*cos(th1)*cos(th3),       -L1*(sin(th1)*sin(th3) + sin(th2)*cos(th1)*cos(th3)) - L2*cos(th3)],\n",
              "[                             sin(th1)*cos(th2),         -sin(th2),                               cos(th1)*cos(th2),                                                    -L1*cos(th1)*cos(th2)],\n",
              "[                                             0,                 0,                                               0,                                                                        1]])"
            ],
            "text/latex": "$\\displaystyle \\left[\\begin{matrix}\\sin{\\left(th_{1} \\right)} \\sin{\\left(th_{2} \\right)} \\sin{\\left(th_{3} \\right)} + \\cos{\\left(th_{1} \\right)} \\cos{\\left(th_{3} \\right)} & \\sin{\\left(th_{3} \\right)} \\cos{\\left(th_{2} \\right)} & - \\sin{\\left(th_{1} \\right)} \\cos{\\left(th_{3} \\right)} + \\sin{\\left(th_{2} \\right)} \\sin{\\left(th_{3} \\right)} \\cos{\\left(th_{1} \\right)} & - L_{1} \\left(- \\sin{\\left(th_{1} \\right)} \\cos{\\left(th_{3} \\right)} + \\sin{\\left(th_{2} \\right)} \\sin{\\left(th_{3} \\right)} \\cos{\\left(th_{1} \\right)}\\right) - L_{2} \\sin{\\left(th_{3} \\right)} - L_{3}\\\\\\sin{\\left(th_{1} \\right)} \\sin{\\left(th_{2} \\right)} \\cos{\\left(th_{3} \\right)} - \\sin{\\left(th_{3} \\right)} \\cos{\\left(th_{1} \\right)} & \\cos{\\left(th_{2} \\right)} \\cos{\\left(th_{3} \\right)} & \\sin{\\left(th_{1} \\right)} \\sin{\\left(th_{3} \\right)} + \\sin{\\left(th_{2} \\right)} \\cos{\\left(th_{1} \\right)} \\cos{\\left(th_{3} \\right)} & - L_{1} \\left(\\sin{\\left(th_{1} \\right)} \\sin{\\left(th_{3} \\right)} + \\sin{\\left(th_{2} \\right)} \\cos{\\left(th_{1} \\right)} \\cos{\\left(th_{3} \\right)}\\right) - L_{2} \\cos{\\left(th_{3} \\right)}\\\\\\sin{\\left(th_{1} \\right)} \\cos{\\left(th_{2} \\right)} & - \\sin{\\left(th_{2} \\right)} & \\cos{\\left(th_{1} \\right)} \\cos{\\left(th_{2} \\right)} & - L_{1} \\cos{\\left(th_{1} \\right)} \\cos{\\left(th_{2} \\right)}\\\\0 & 0 & 0 & 1\\end{matrix}\\right]$"
          },
          "metadata": {},
          "execution_count": 108
        }
      ]
    },
    {
      "cell_type": "code",
      "source": [
        "Rec8 = rotacion_x(I, th1) * traslacion_x(I, L1) * rotacion_z(I, th2) * traslacion_y(I, L2) * rotacion_y(I, th3) * traslacion_z(I, L3)\n",
        "Rec8"
      ],
      "metadata": {
        "id": "h5t84rhvCif2",
        "colab": {
          "base_uri": "https://localhost:8080/",
          "height": 118
        },
        "outputId": "ff2de167-59c9-46b3-cc94-930640adc63f"
      },
      "execution_count": null,
      "outputs": [
        {
          "output_type": "execute_result",
          "data": {
            "text/plain": [
              "Matrix([\n",
              "[                             cos(th2)*cos(th3),         -sin(th2),                               sin(th3)*cos(th2),                                     L1 - L2*sin(th2) + L3*sin(th3)*cos(th2)],\n",
              "[sin(th1)*sin(th3) + sin(th2)*cos(th1)*cos(th3), cos(th1)*cos(th2), -sin(th1)*cos(th3) + sin(th2)*sin(th3)*cos(th1), L2*cos(th1)*cos(th2) + L3*(-sin(th1)*cos(th3) + sin(th2)*sin(th3)*cos(th1))],\n",
              "[sin(th1)*sin(th2)*cos(th3) - sin(th3)*cos(th1), sin(th1)*cos(th2),  sin(th1)*sin(th2)*sin(th3) + cos(th1)*cos(th3),  L2*sin(th1)*cos(th2) + L3*(sin(th1)*sin(th2)*sin(th3) + cos(th1)*cos(th3))],\n",
              "[                                             0,                 0,                                               0,                                                                           1]])"
            ],
            "text/latex": "$\\displaystyle \\left[\\begin{matrix}\\cos{\\left(th_{2} \\right)} \\cos{\\left(th_{3} \\right)} & - \\sin{\\left(th_{2} \\right)} & \\sin{\\left(th_{3} \\right)} \\cos{\\left(th_{2} \\right)} & L_{1} - L_{2} \\sin{\\left(th_{2} \\right)} + L_{3} \\sin{\\left(th_{3} \\right)} \\cos{\\left(th_{2} \\right)}\\\\\\sin{\\left(th_{1} \\right)} \\sin{\\left(th_{3} \\right)} + \\sin{\\left(th_{2} \\right)} \\cos{\\left(th_{1} \\right)} \\cos{\\left(th_{3} \\right)} & \\cos{\\left(th_{1} \\right)} \\cos{\\left(th_{2} \\right)} & - \\sin{\\left(th_{1} \\right)} \\cos{\\left(th_{3} \\right)} + \\sin{\\left(th_{2} \\right)} \\sin{\\left(th_{3} \\right)} \\cos{\\left(th_{1} \\right)} & L_{2} \\cos{\\left(th_{1} \\right)} \\cos{\\left(th_{2} \\right)} + L_{3} \\left(- \\sin{\\left(th_{1} \\right)} \\cos{\\left(th_{3} \\right)} + \\sin{\\left(th_{2} \\right)} \\sin{\\left(th_{3} \\right)} \\cos{\\left(th_{1} \\right)}\\right)\\\\\\sin{\\left(th_{1} \\right)} \\sin{\\left(th_{2} \\right)} \\cos{\\left(th_{3} \\right)} - \\sin{\\left(th_{3} \\right)} \\cos{\\left(th_{1} \\right)} & \\sin{\\left(th_{1} \\right)} \\cos{\\left(th_{2} \\right)} & \\sin{\\left(th_{1} \\right)} \\sin{\\left(th_{2} \\right)} \\sin{\\left(th_{3} \\right)} + \\cos{\\left(th_{1} \\right)} \\cos{\\left(th_{3} \\right)} & L_{2} \\sin{\\left(th_{1} \\right)} \\cos{\\left(th_{2} \\right)} + L_{3} \\left(\\sin{\\left(th_{1} \\right)} \\sin{\\left(th_{2} \\right)} \\sin{\\left(th_{3} \\right)} + \\cos{\\left(th_{1} \\right)} \\cos{\\left(th_{3} \\right)}\\right)\\\\0 & 0 & 0 & 1\\end{matrix}\\right]$"
          },
          "metadata": {},
          "execution_count": 109
        }
      ]
    },
    {
      "cell_type": "code",
      "source": [
        "Rec8_inv = traslacion_z(I, -L3) * rotacion_y(I, -th3) * traslacion_y(I, -L2) * rotacion_z(I, -th2) * traslacion_x(I, -L1) * rotacion_x(I, -th1)\n",
        "Rec8_inv"
      ],
      "metadata": {
        "id": "v69wvmnMCimJ",
        "colab": {
          "base_uri": "https://localhost:8080/",
          "height": 98
        },
        "outputId": "93a29722-6364-4aed-cb15-c93e95160f61"
      },
      "execution_count": null,
      "outputs": [
        {
          "output_type": "execute_result",
          "data": {
            "text/plain": [
              "Matrix([\n",
              "[cos(th2)*cos(th3),  sin(th1)*sin(th3) + sin(th2)*cos(th1)*cos(th3), sin(th1)*sin(th2)*cos(th3) - sin(th3)*cos(th1),      -L1*cos(th2)*cos(th3)],\n",
              "[        -sin(th2),                               cos(th1)*cos(th2),                              sin(th1)*cos(th2),           L1*sin(th2) - L2],\n",
              "[sin(th3)*cos(th2), -sin(th1)*cos(th3) + sin(th2)*sin(th3)*cos(th1), sin(th1)*sin(th2)*sin(th3) + cos(th1)*cos(th3), -L1*sin(th3)*cos(th2) - L3],\n",
              "[                0,                                               0,                                              0,                          1]])"
            ],
            "text/latex": "$\\displaystyle \\left[\\begin{matrix}\\cos{\\left(th_{2} \\right)} \\cos{\\left(th_{3} \\right)} & \\sin{\\left(th_{1} \\right)} \\sin{\\left(th_{3} \\right)} + \\sin{\\left(th_{2} \\right)} \\cos{\\left(th_{1} \\right)} \\cos{\\left(th_{3} \\right)} & \\sin{\\left(th_{1} \\right)} \\sin{\\left(th_{2} \\right)} \\cos{\\left(th_{3} \\right)} - \\sin{\\left(th_{3} \\right)} \\cos{\\left(th_{1} \\right)} & - L_{1} \\cos{\\left(th_{2} \\right)} \\cos{\\left(th_{3} \\right)}\\\\- \\sin{\\left(th_{2} \\right)} & \\cos{\\left(th_{1} \\right)} \\cos{\\left(th_{2} \\right)} & \\sin{\\left(th_{1} \\right)} \\cos{\\left(th_{2} \\right)} & L_{1} \\sin{\\left(th_{2} \\right)} - L_{2}\\\\\\sin{\\left(th_{3} \\right)} \\cos{\\left(th_{2} \\right)} & - \\sin{\\left(th_{1} \\right)} \\cos{\\left(th_{3} \\right)} + \\sin{\\left(th_{2} \\right)} \\sin{\\left(th_{3} \\right)} \\cos{\\left(th_{1} \\right)} & \\sin{\\left(th_{1} \\right)} \\sin{\\left(th_{2} \\right)} \\sin{\\left(th_{3} \\right)} + \\cos{\\left(th_{1} \\right)} \\cos{\\left(th_{3} \\right)} & - L_{1} \\sin{\\left(th_{3} \\right)} \\cos{\\left(th_{2} \\right)} - L_{3}\\\\0 & 0 & 0 & 1\\end{matrix}\\right]$"
          },
          "metadata": {},
          "execution_count": 110
        }
      ]
    },
    {
      "cell_type": "code",
      "source": [
        "Rec9 = traslacion_y(I, L1) * rotacion_z(I, th1) * traslacion_z(I, L2) * rotacion_x(I, th2) * traslacion_x(I, L3) * rotacion_y(I, th3)\n",
        "Rec9"
      ],
      "metadata": {
        "id": "shUyEFXsCzs2",
        "colab": {
          "base_uri": "https://localhost:8080/",
          "height": 98
        },
        "outputId": "50a55f34-6720-409a-814d-3daba6ec7977"
      },
      "execution_count": null,
      "outputs": [
        {
          "output_type": "execute_result",
          "data": {
            "text/plain": [
              "Matrix([\n",
              "[-sin(th1)*sin(th2)*sin(th3) + cos(th1)*cos(th3), -sin(th1)*cos(th2), sin(th1)*sin(th2)*cos(th3) + sin(th3)*cos(th1),      L3*cos(th1)],\n",
              "[ sin(th1)*cos(th3) + sin(th2)*sin(th3)*cos(th1),  cos(th1)*cos(th2), sin(th1)*sin(th3) - sin(th2)*cos(th1)*cos(th3), L1 + L3*sin(th1)],\n",
              "[                             -sin(th3)*cos(th2),           sin(th2),                              cos(th2)*cos(th3),               L2],\n",
              "[                                              0,                  0,                                              0,                1]])"
            ],
            "text/latex": "$\\displaystyle \\left[\\begin{matrix}- \\sin{\\left(th_{1} \\right)} \\sin{\\left(th_{2} \\right)} \\sin{\\left(th_{3} \\right)} + \\cos{\\left(th_{1} \\right)} \\cos{\\left(th_{3} \\right)} & - \\sin{\\left(th_{1} \\right)} \\cos{\\left(th_{2} \\right)} & \\sin{\\left(th_{1} \\right)} \\sin{\\left(th_{2} \\right)} \\cos{\\left(th_{3} \\right)} + \\sin{\\left(th_{3} \\right)} \\cos{\\left(th_{1} \\right)} & L_{3} \\cos{\\left(th_{1} \\right)}\\\\\\sin{\\left(th_{1} \\right)} \\cos{\\left(th_{3} \\right)} + \\sin{\\left(th_{2} \\right)} \\sin{\\left(th_{3} \\right)} \\cos{\\left(th_{1} \\right)} & \\cos{\\left(th_{1} \\right)} \\cos{\\left(th_{2} \\right)} & \\sin{\\left(th_{1} \\right)} \\sin{\\left(th_{3} \\right)} - \\sin{\\left(th_{2} \\right)} \\cos{\\left(th_{1} \\right)} \\cos{\\left(th_{3} \\right)} & L_{1} + L_{3} \\sin{\\left(th_{1} \\right)}\\\\- \\sin{\\left(th_{3} \\right)} \\cos{\\left(th_{2} \\right)} & \\sin{\\left(th_{2} \\right)} & \\cos{\\left(th_{2} \\right)} \\cos{\\left(th_{3} \\right)} & L_{2}\\\\0 & 0 & 0 & 1\\end{matrix}\\right]$"
          },
          "metadata": {},
          "execution_count": 111
        }
      ]
    },
    {
      "cell_type": "code",
      "source": [
        "Rec9_inv = rotacion_y(I, -th3) * traslacion_x(I, -L3) * rotacion_x(I, -th2) * traslacion_z(I, -L2) * rotacion_z(I, -th1) * traslacion_y(I, -L1)\n",
        "Rec9_inv"
      ],
      "metadata": {
        "id": "iI_h7G6tCz0T",
        "colab": {
          "base_uri": "https://localhost:8080/",
          "height": 118
        },
        "outputId": "c50c78d7-804b-4581-8e77-fb71e13a9d6f"
      },
      "execution_count": null,
      "outputs": [
        {
          "output_type": "execute_result",
          "data": {
            "text/plain": [
              "Matrix([\n",
              "[-sin(th1)*sin(th2)*sin(th3) + cos(th1)*cos(th3), sin(th1)*cos(th3) + sin(th2)*sin(th3)*cos(th1), -sin(th3)*cos(th2), -L1*(sin(th1)*cos(th3) + sin(th2)*sin(th3)*cos(th1)) + L2*sin(th3)*cos(th2) - L3*cos(th3)],\n",
              "[                             -sin(th1)*cos(th2),                              cos(th1)*cos(th2),           sin(th2),                                                       -L1*cos(th1)*cos(th2) - L2*sin(th2)],\n",
              "[ sin(th1)*sin(th2)*cos(th3) + sin(th3)*cos(th1), sin(th1)*sin(th3) - sin(th2)*cos(th1)*cos(th3),  cos(th2)*cos(th3), -L1*(sin(th1)*sin(th3) - sin(th2)*cos(th1)*cos(th3)) - L2*cos(th2)*cos(th3) - L3*sin(th3)],\n",
              "[                                              0,                                              0,                  0,                                                                                         1]])"
            ],
            "text/latex": "$\\displaystyle \\left[\\begin{matrix}- \\sin{\\left(th_{1} \\right)} \\sin{\\left(th_{2} \\right)} \\sin{\\left(th_{3} \\right)} + \\cos{\\left(th_{1} \\right)} \\cos{\\left(th_{3} \\right)} & \\sin{\\left(th_{1} \\right)} \\cos{\\left(th_{3} \\right)} + \\sin{\\left(th_{2} \\right)} \\sin{\\left(th_{3} \\right)} \\cos{\\left(th_{1} \\right)} & - \\sin{\\left(th_{3} \\right)} \\cos{\\left(th_{2} \\right)} & - L_{1} \\left(\\sin{\\left(th_{1} \\right)} \\cos{\\left(th_{3} \\right)} + \\sin{\\left(th_{2} \\right)} \\sin{\\left(th_{3} \\right)} \\cos{\\left(th_{1} \\right)}\\right) + L_{2} \\sin{\\left(th_{3} \\right)} \\cos{\\left(th_{2} \\right)} - L_{3} \\cos{\\left(th_{3} \\right)}\\\\- \\sin{\\left(th_{1} \\right)} \\cos{\\left(th_{2} \\right)} & \\cos{\\left(th_{1} \\right)} \\cos{\\left(th_{2} \\right)} & \\sin{\\left(th_{2} \\right)} & - L_{1} \\cos{\\left(th_{1} \\right)} \\cos{\\left(th_{2} \\right)} - L_{2} \\sin{\\left(th_{2} \\right)}\\\\\\sin{\\left(th_{1} \\right)} \\sin{\\left(th_{2} \\right)} \\cos{\\left(th_{3} \\right)} + \\sin{\\left(th_{3} \\right)} \\cos{\\left(th_{1} \\right)} & \\sin{\\left(th_{1} \\right)} \\sin{\\left(th_{3} \\right)} - \\sin{\\left(th_{2} \\right)} \\cos{\\left(th_{1} \\right)} \\cos{\\left(th_{3} \\right)} & \\cos{\\left(th_{2} \\right)} \\cos{\\left(th_{3} \\right)} & - L_{1} \\left(\\sin{\\left(th_{1} \\right)} \\sin{\\left(th_{3} \\right)} - \\sin{\\left(th_{2} \\right)} \\cos{\\left(th_{1} \\right)} \\cos{\\left(th_{3} \\right)}\\right) - L_{2} \\cos{\\left(th_{2} \\right)} \\cos{\\left(th_{3} \\right)} - L_{3} \\sin{\\left(th_{3} \\right)}\\\\0 & 0 & 0 & 1\\end{matrix}\\right]$"
          },
          "metadata": {},
          "execution_count": 112
        }
      ]
    },
    {
      "cell_type": "code",
      "source": [
        "Rec10 = rotacion_y(I, th1) * traslacion_z(I, L1) * rotacion_x(I, th2) * traslacion_y(I, L2) * rotacion_z(I, th3) * traslacion_x(I, L3) * traslacion_x(I, L6)\n",
        "Rec10"
      ],
      "metadata": {
        "id": "G57E1uqrDFV8",
        "colab": {
          "base_uri": "https://localhost:8080/",
          "height": 118
        },
        "outputId": "85b0b83c-9e62-49e7-de76-c18d5e8abbc4"
      },
      "execution_count": null,
      "outputs": [
        {
          "output_type": "execute_result",
          "data": {
            "text/plain": [
              "Matrix([\n",
              "[ sin(th1)*sin(th2)*sin(th3) + cos(th1)*cos(th3), sin(th1)*sin(th2)*cos(th3) - sin(th3)*cos(th1), sin(th1)*cos(th2),   L1*sin(th1) + L2*sin(th1)*sin(th2) + L3*(sin(th1)*sin(th2)*sin(th3) + cos(th1)*cos(th3)) + L6*(sin(th1)*sin(th2)*sin(th3) + cos(th1)*cos(th3))],\n",
              "[                              sin(th3)*cos(th2),                              cos(th2)*cos(th3),         -sin(th2),                                                                                        L2*cos(th2) + L3*sin(th3)*cos(th2) + L6*sin(th3)*cos(th2)],\n",
              "[-sin(th1)*cos(th3) + sin(th2)*sin(th3)*cos(th1), sin(th1)*sin(th3) + sin(th2)*cos(th1)*cos(th3), cos(th1)*cos(th2), L1*cos(th1) + L2*sin(th2)*cos(th1) + L3*(-sin(th1)*cos(th3) + sin(th2)*sin(th3)*cos(th1)) + L6*(-sin(th1)*cos(th3) + sin(th2)*sin(th3)*cos(th1))],\n",
              "[                                              0,                                              0,                 0,                                                                                                                                                1]])"
            ],
            "text/latex": "$\\displaystyle \\left[\\begin{matrix}\\sin{\\left(th_{1} \\right)} \\sin{\\left(th_{2} \\right)} \\sin{\\left(th_{3} \\right)} + \\cos{\\left(th_{1} \\right)} \\cos{\\left(th_{3} \\right)} & \\sin{\\left(th_{1} \\right)} \\sin{\\left(th_{2} \\right)} \\cos{\\left(th_{3} \\right)} - \\sin{\\left(th_{3} \\right)} \\cos{\\left(th_{1} \\right)} & \\sin{\\left(th_{1} \\right)} \\cos{\\left(th_{2} \\right)} & L_{1} \\sin{\\left(th_{1} \\right)} + L_{2} \\sin{\\left(th_{1} \\right)} \\sin{\\left(th_{2} \\right)} + L_{3} \\left(\\sin{\\left(th_{1} \\right)} \\sin{\\left(th_{2} \\right)} \\sin{\\left(th_{3} \\right)} + \\cos{\\left(th_{1} \\right)} \\cos{\\left(th_{3} \\right)}\\right) + L_{6} \\left(\\sin{\\left(th_{1} \\right)} \\sin{\\left(th_{2} \\right)} \\sin{\\left(th_{3} \\right)} + \\cos{\\left(th_{1} \\right)} \\cos{\\left(th_{3} \\right)}\\right)\\\\\\sin{\\left(th_{3} \\right)} \\cos{\\left(th_{2} \\right)} & \\cos{\\left(th_{2} \\right)} \\cos{\\left(th_{3} \\right)} & - \\sin{\\left(th_{2} \\right)} & L_{2} \\cos{\\left(th_{2} \\right)} + L_{3} \\sin{\\left(th_{3} \\right)} \\cos{\\left(th_{2} \\right)} + L_{6} \\sin{\\left(th_{3} \\right)} \\cos{\\left(th_{2} \\right)}\\\\- \\sin{\\left(th_{1} \\right)} \\cos{\\left(th_{3} \\right)} + \\sin{\\left(th_{2} \\right)} \\sin{\\left(th_{3} \\right)} \\cos{\\left(th_{1} \\right)} & \\sin{\\left(th_{1} \\right)} \\sin{\\left(th_{3} \\right)} + \\sin{\\left(th_{2} \\right)} \\cos{\\left(th_{1} \\right)} \\cos{\\left(th_{3} \\right)} & \\cos{\\left(th_{1} \\right)} \\cos{\\left(th_{2} \\right)} & L_{1} \\cos{\\left(th_{1} \\right)} + L_{2} \\sin{\\left(th_{2} \\right)} \\cos{\\left(th_{1} \\right)} + L_{3} \\left(- \\sin{\\left(th_{1} \\right)} \\cos{\\left(th_{3} \\right)} + \\sin{\\left(th_{2} \\right)} \\sin{\\left(th_{3} \\right)} \\cos{\\left(th_{1} \\right)}\\right) + L_{6} \\left(- \\sin{\\left(th_{1} \\right)} \\cos{\\left(th_{3} \\right)} + \\sin{\\left(th_{2} \\right)} \\sin{\\left(th_{3} \\right)} \\cos{\\left(th_{1} \\right)}\\right)\\\\0 & 0 & 0 & 1\\end{matrix}\\right]$"
          },
          "metadata": {},
          "execution_count": 113
        }
      ]
    },
    {
      "cell_type": "code",
      "source": [
        "Rec10_inv = traslacion_x(I, -L6) * traslacion_x(I, -L3) * rotacion_z(I, -th3) * traslacion_y(I, -L2) * rotacion_x(I, -th2) * traslacion_z(I, -L1) * rotacion_y(I, -th1)\n",
        "Rec10_inv"
      ],
      "metadata": {
        "id": "YUQVmi3LDMfG",
        "colab": {
          "base_uri": "https://localhost:8080/",
          "height": 98
        },
        "outputId": "4a88e040-98ac-4685-f44e-af0dd6bd207f"
      },
      "execution_count": null,
      "outputs": [
        {
          "output_type": "execute_result",
          "data": {
            "text/plain": [
              "Matrix([\n",
              "[sin(th1)*sin(th2)*sin(th3) + cos(th1)*cos(th3), sin(th3)*cos(th2), -sin(th1)*cos(th3) + sin(th2)*sin(th3)*cos(th1), -L1*sin(th2)*sin(th3) - L2*sin(th3) - L3 - L6],\n",
              "[sin(th1)*sin(th2)*cos(th3) - sin(th3)*cos(th1), cos(th2)*cos(th3),  sin(th1)*sin(th3) + sin(th2)*cos(th1)*cos(th3),           -L1*sin(th2)*cos(th3) - L2*cos(th3)],\n",
              "[                             sin(th1)*cos(th2),         -sin(th2),                               cos(th1)*cos(th2),                                  -L1*cos(th2)],\n",
              "[                                             0,                 0,                                               0,                                             1]])"
            ],
            "text/latex": "$\\displaystyle \\left[\\begin{matrix}\\sin{\\left(th_{1} \\right)} \\sin{\\left(th_{2} \\right)} \\sin{\\left(th_{3} \\right)} + \\cos{\\left(th_{1} \\right)} \\cos{\\left(th_{3} \\right)} & \\sin{\\left(th_{3} \\right)} \\cos{\\left(th_{2} \\right)} & - \\sin{\\left(th_{1} \\right)} \\cos{\\left(th_{3} \\right)} + \\sin{\\left(th_{2} \\right)} \\sin{\\left(th_{3} \\right)} \\cos{\\left(th_{1} \\right)} & - L_{1} \\sin{\\left(th_{2} \\right)} \\sin{\\left(th_{3} \\right)} - L_{2} \\sin{\\left(th_{3} \\right)} - L_{3} - L_{6}\\\\\\sin{\\left(th_{1} \\right)} \\sin{\\left(th_{2} \\right)} \\cos{\\left(th_{3} \\right)} - \\sin{\\left(th_{3} \\right)} \\cos{\\left(th_{1} \\right)} & \\cos{\\left(th_{2} \\right)} \\cos{\\left(th_{3} \\right)} & \\sin{\\left(th_{1} \\right)} \\sin{\\left(th_{3} \\right)} + \\sin{\\left(th_{2} \\right)} \\cos{\\left(th_{1} \\right)} \\cos{\\left(th_{3} \\right)} & - L_{1} \\sin{\\left(th_{2} \\right)} \\cos{\\left(th_{3} \\right)} - L_{2} \\cos{\\left(th_{3} \\right)}\\\\\\sin{\\left(th_{1} \\right)} \\cos{\\left(th_{2} \\right)} & - \\sin{\\left(th_{2} \\right)} & \\cos{\\left(th_{1} \\right)} \\cos{\\left(th_{2} \\right)} & - L_{1} \\cos{\\left(th_{2} \\right)}\\\\0 & 0 & 0 & 1\\end{matrix}\\right]$"
          },
          "metadata": {},
          "execution_count": 114
        }
      ]
    }
  ]
}