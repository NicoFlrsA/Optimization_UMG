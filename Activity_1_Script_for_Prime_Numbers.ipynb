{
  "nbformat": 4,
  "nbformat_minor": 0,
  "metadata": {
    "colab": {
      "provenance": [],
      "authorship_tag": "ABX9TyME0Cy0gGhE24N13x8MkznP",
      "include_colab_link": true
    },
    "kernelspec": {
      "name": "python3",
      "display_name": "Python 3"
    },
    "language_info": {
      "name": "python"
    }
  },
  "cells": [
    {
      "cell_type": "markdown",
      "metadata": {
        "id": "view-in-github",
        "colab_type": "text"
      },
      "source": [
        "<a href=\"https://colab.research.google.com/github/NicoFlrsA/Optimization_UMG/blob/main/Activity_1_Script_for_Prime_Numbers.ipynb\" target=\"_parent\"><img src=\"https://colab.research.google.com/assets/colab-badge.svg\" alt=\"Open In Colab\"/></a>"
      ]
    },
    {
      "cell_type": "markdown",
      "source": [
        "### **Prime number**\n",
        "Definition: a whole number greater than 1 that cannot be exactly divided by any whole number other than itself and 1."
      ],
      "metadata": {
        "id": "-ip-1Nq0w8DF"
      }
    },
    {
      "cell_type": "markdown",
      "source": [
        "In order to detect prime numbers in an Array, first we need a function to detect if an imput number is a prime number."
      ],
      "metadata": {
        "id": "4Qnrv1VQwnHb"
      }
    },
    {
      "cell_type": "code",
      "execution_count": 1,
      "metadata": {
        "id": "GB6R_h41tfGP"
      },
      "outputs": [],
      "source": [
        "def isPrime(num):\n",
        "    if num <= 1: # Negative numbers, 0 or 1 are not prime numbers\n",
        "        return False\n",
        "    else:\n",
        "        count = 0 # Counter for how many numbers can divide \"num\"\n",
        "        for i in range(2, num): # Cicle for dividing \"num\" from 2 to (num-1)\n",
        "            residue = num % i\n",
        "            if residue == 0: # Increments \"Count\" if \"num\" is dividible bt other number\n",
        "                count += 1\n",
        "        if count == 0:\n",
        "            return True # \"num\" is a prime if no other number can divide it\n",
        "        else:\n",
        "            return False # \"num\" is not a prime if it can ve divided by another number"
      ]
    },
    {
      "cell_type": "markdown",
      "source": [
        "Then, we need to create a function to scan an array and generate a new one with only prime numbers."
      ],
      "metadata": {
        "id": "ym6u7GvQxd4K"
      }
    },
    {
      "cell_type": "code",
      "source": [
        "def primesArray(array):\n",
        "    primes = [] # Array for prime numbers in \"array\"\n",
        "    for num in array: # Cicle to detect prime numbers\n",
        "        if isPrime(num):\n",
        "            primes.append(num) # Adds prime numbers to array \"primes\"\n",
        "    return primes"
      ],
      "metadata": {
        "id": "0RPuSVIvtg0f"
      },
      "execution_count": 2,
      "outputs": []
    },
    {
      "cell_type": "markdown",
      "source": [
        "Now, to see the fuctions in action, we can create an input array and print the prime numbers of the input."
      ],
      "metadata": {
        "id": "h6h04ZN4xsEs"
      }
    },
    {
      "cell_type": "code",
      "source": [
        "numbers = [1, 2, 3, 4, 5, 6, 7, 8, 9, 10]\n",
        "primes = primesArray(numbers)\n",
        "print(\"Prime numbers in array:\", primes)"
      ],
      "metadata": {
        "colab": {
          "base_uri": "https://localhost:8080/"
        },
        "id": "2s3bYQa5tj89",
        "outputId": "9ed1b7be-4283-4593-d45f-0c50b1534b3e"
      },
      "execution_count": 8,
      "outputs": [
        {
          "output_type": "stream",
          "name": "stdout",
          "text": [
            "Prime numbers in array: [2, 3, 5, 7]\n"
          ]
        }
      ]
    }
  ]
}