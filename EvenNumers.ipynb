{
  "nbformat": 4,
  "nbformat_minor": 0,
  "metadata": {
    "colab": {
      "provenance": [],
      "authorship_tag": "ABX9TyPE0LHSIy4DW5kcr9rVkyXp",
      "include_colab_link": true
    },
    "kernelspec": {
      "name": "python3",
      "display_name": "Python 3"
    },
    "language_info": {
      "name": "python"
    }
  },
  "cells": [
    {
      "cell_type": "markdown",
      "metadata": {
        "id": "view-in-github",
        "colab_type": "text"
      },
      "source": [
        "<a href=\"https://colab.research.google.com/github/NicoFlrsA/Optimization_UMG/blob/main/EvenNumers.ipynb\" target=\"_parent\"><img src=\"https://colab.research.google.com/assets/colab-badge.svg\" alt=\"Open In Colab\"/></a>"
      ]
    },
    {
      "cell_type": "code",
      "execution_count": null,
      "metadata": {
        "id": "AtiqI7qSGAcD"
      },
      "outputs": [],
      "source": []
    },
    {
      "cell_type": "markdown",
      "source": [
        "# Even Number Search.\n",
        "\n",
        "An algorith to find even numbers given an imput array."
      ],
      "metadata": {
        "id": "nFXiMqHfGHXY"
      }
    },
    {
      "cell_type": "code",
      "source": [
        "A = [1, 2, 3, 4, 5, 6, 7, 8, 9, 10]\n",
        "print(A)"
      ],
      "metadata": {
        "colab": {
          "base_uri": "https://localhost:8080/"
        },
        "id": "QTFmAQreGT8a",
        "outputId": "962f5e94-0d6a-41d6-ad96-8ab7d5d96342"
      },
      "execution_count": 1,
      "outputs": [
        {
          "output_type": "stream",
          "name": "stdout",
          "text": [
            "[1, 2, 3, 4, 5, 6, 7, 8, 9, 10]\n"
          ]
        }
      ]
    },
    {
      "cell_type": "code",
      "source": [
        "for x in A:\n",
        "    if(x % 2 == 0):\n",
        "      print(x, \"is an even number\")"
      ],
      "metadata": {
        "colab": {
          "base_uri": "https://localhost:8080/"
        },
        "id": "3YYvIAaLGk7D",
        "outputId": "7234cec5-5acf-46cc-a32a-1c86bfb88bb5"
      },
      "execution_count": 3,
      "outputs": [
        {
          "output_type": "stream",
          "name": "stdout",
          "text": [
            "2 is an even number\n",
            "4 is an even number\n",
            "6 is an even number\n",
            "8 is an even number\n",
            "10 is an even number\n"
          ]
        }
      ]
    }
  ]
}