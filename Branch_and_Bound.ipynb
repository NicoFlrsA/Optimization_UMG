{
  "nbformat": 4,
  "nbformat_minor": 0,
  "metadata": {
    "colab": {
      "provenance": [],
      "authorship_tag": "ABX9TyPJtBqItBiHwQa8jEAMICsN",
      "include_colab_link": true
    },
    "kernelspec": {
      "name": "python3",
      "display_name": "Python 3"
    },
    "language_info": {
      "name": "python"
    }
  },
  "cells": [
    {
      "cell_type": "markdown",
      "metadata": {
        "id": "view-in-github",
        "colab_type": "text"
      },
      "source": [
        "<a href=\"https://colab.research.google.com/github/NicoFlrsA/Optimization_UMG/blob/main/Branch_and_Bound.ipynb\" target=\"_parent\"><img src=\"https://colab.research.google.com/assets/colab-badge.svg\" alt=\"Open In Colab\"/></a>"
      ]
    },
    {
      "cell_type": "markdown",
      "source": [
        "Importamos las bibliotecas necesarias, numpy para manipulación de matrices y copy para realizar copias profundas de objetos."
      ],
      "metadata": {
        "id": "IaBL5ZIp53JY"
      }
    },
    {
      "cell_type": "code",
      "execution_count": 3,
      "metadata": {
        "id": "qUN042A45wUG"
      },
      "outputs": [],
      "source": [
        "import numpy as np\n",
        "import copy\n"
      ]
    },
    {
      "cell_type": "markdown",
      "source": [
        "La función reduce_matrix reduce las filas y columnas de la matriz. Para cada fila, resta el valor mínimo de esa fila de todos los elementos de la fila. Hace lo mismo para cada columna."
      ],
      "metadata": {
        "id": "fkqNMqeV6jVY"
      }
    },
    {
      "cell_type": "code",
      "source": [
        "    def reduce_matrix(matrix):\n",
        "        for row in range(matrix.shape[0]):\n",
        "            min_val = np.min(matrix[row])\n",
        "            matrix[row] -= min_val\n",
        "\n",
        "        for col in range(matrix.shape[1]):\n",
        "            min_val = np.min(matrix[:, col])\n",
        "            matrix[:, col] -= min_val\n",
        "\n",
        "        return matrix"
      ],
      "metadata": {
        "id": "a17NZMaH6dHr"
      },
      "execution_count": 4,
      "outputs": []
    },
    {
      "cell_type": "markdown",
      "source": [
        "La función calculate_lower_bound calcula la cota inferior sumando los valores mínimos de cada fila y columna."
      ],
      "metadata": {
        "id": "ocm8RSyV6pTi"
      }
    },
    {
      "cell_type": "code",
      "source": [
        "    def calculate_lower_bound(matrix):\n",
        "        lower_bound = 0\n",
        "        for row in range(matrix.shape[0]):\n",
        "            lower_bound += np.min(matrix[row])\n",
        "\n",
        "        for col in range(matrix.shape[1]):\n",
        "            lower_bound += np.min(matrix[:, col])\n",
        "\n",
        "        return lower_bound / 2"
      ],
      "metadata": {
        "id": "iJas6b1X6t-8"
      },
      "execution_count": 5,
      "outputs": []
    },
    {
      "cell_type": "markdown",
      "source": [
        "La función branch_and_bound realiza la recursión del algoritmo. Si todas las ciudades han sido visitadas, se agrega el costo de regresar a la ciudad inicial y se actualiza la mejor solución si es necesario. Luego, para cada ciudad no visitada, se crea una bifurcación en el árbol de búsqueda, excluyendo esa ciudad y actualizando la matriz."
      ],
      "metadata": {
        "id": "iqlgt5Sr65TN"
      }
    },
    {
      "cell_type": "code",
      "source": [
        "    def branch_and_bound(matrix, path, bound, cost, min_cost_path):\n",
        "        large_value = cost_matrix.shape[0] + 1\n",
        "        if len(path) == matrix.shape[0]:\n",
        "            cost += matrix[path[-1], path[0]]\n",
        "            if cost < min_cost_path['cost']:\n",
        "                min_cost_path['path'] = path.copy()\n",
        "                min_cost_path['cost'] = cost\n",
        "            return\n",
        "\n",
        "        for city in range(matrix.shape[0]):\n",
        "            if city not in path:\n",
        "                bound_copy = copy.deepcopy(bound)\n",
        "                matrix_copy = copy.deepcopy(matrix)\n",
        "                path_copy = path.copy()\n",
        "\n",
        "                matrix_copy[path[-1], city] = large_value\n",
        "                matrix_copy[:, city] = large_value\n",
        "                bound_copy += int(matrix[path[-1], city])\n",
        "\n",
        "                matrix_copy = reduce_matrix(matrix_copy)\n",
        "                bound_copy += calculate_lower_bound(matrix_copy)\n",
        "\n",
        "                if bound_copy < min_cost_path['cost']:\n",
        "                    path_copy.append(city)\n",
        "                    branch_and_bound(matrix_copy, path_copy, bound_copy, cost + matrix[path[-1], city], min_cost_path)"
      ],
      "metadata": {
        "id": "OuE_Rslr69ZD"
      },
      "execution_count": 6,
      "outputs": []
    },
    {
      "cell_type": "markdown",
      "source": [
        "Se inicializan las variables necesarias y se comienza el algoritmo llamando a la función branch_and_bound con la matriz reducida. Tambien la diagonal de la matriz se cambia a un valor alto"
      ],
      "metadata": {
        "id": "C-Rv3eKC7HpH"
      }
    },
    {
      "cell_type": "code",
      "source": [
        "def tsp_branch_and_bound(cost_matrix):\n",
        "    large_value = cost_matrix.shape[0] + 1\n",
        "    np.fill_diagonal(cost_matrix, large_value)\n",
        "\n",
        "    n = cost_matrix.shape[0]\n",
        "    path = [0]\n",
        "    bound = 0\n",
        "    cost = 0\n",
        "    min_cost_path = {'path': [], 'cost': np.inf}\n",
        "\n",
        "    reduced_matrix = reduce_matrix(cost_matrix)\n",
        "    bound += int(calculate_lower_bound(reduced_matrix))\n",
        "\n",
        "    branch_and_bound(reduced_matrix, path, bound, cost, min_cost_path)\n",
        "\n",
        "    return min_cost_path\n"
      ],
      "metadata": {
        "id": "yfF-AQBS6Jtl"
      },
      "execution_count": 7,
      "outputs": []
    },
    {
      "cell_type": "markdown",
      "source": [
        "Ejemplo de uso"
      ],
      "metadata": {
        "id": "6vYcKBAZ7It4"
      }
    },
    {
      "cell_type": "code",
      "source": [
        "# Example usage:\n",
        "cost_matrix = np.array([\n",
        "    [10, 15, 20],\n",
        "    [25, 12, 8],\n",
        "    [13, 7, 15]\n",
        "])\n",
        "\n",
        "result = tsp_branch_and_bound(cost_matrix)\n",
        "print(\"Optimal Path:\", result['path'])\n",
        "print(\"Minimum Cost:\", result['cost'])\n"
      ],
      "metadata": {
        "colab": {
          "base_uri": "https://localhost:8080/"
        },
        "id": "8VzvXbLo7I6e",
        "outputId": "31add07e-7443-4647-d1d2-d366547c06e0"
      },
      "execution_count": 8,
      "outputs": [
        {
          "output_type": "stream",
          "name": "stdout",
          "text": [
            "Optimal Path: [0, 1, 2]\n",
            "Minimum Cost: 16\n"
          ]
        }
      ]
    }
  ]
}